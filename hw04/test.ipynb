{
 "cells": [
  {
   "cell_type": "code",
   "execution_count": 5,
   "metadata": {},
   "outputs": [],
   "source": [
    "def deep_map(f, s):\n",
    "    \"\"\"Replace all non-list elements x with f(x) in the nested list s.\n",
    "\n",
    "    >>> six = [1, 2, [3, [4], 5], 6]\n",
    "    >>> deep_map(lambda x: x * x, six)\n",
    "    >>> six\n",
    "    [1, 4, [9, [16], 25], 36]\n",
    "    >>> # Check that you're not making new lists\n",
    "    >>> s = [3, [1, [4, [1]]]]\n",
    "    >>> s1 = s[1]\n",
    "    >>> s2 = s1[1]\n",
    "    >>> s3 = s2[1]\n",
    "    >>> deep_map(lambda x: x + 1, s)\n",
    "    >>> s\n",
    "    [4, [2, [5, [2]]]]\n",
    "    >>> s1 is s[1]\n",
    "    True\n",
    "    >>> s2 is s1[1]\n",
    "    True\n",
    "    >>> s3 is s2[1]\n",
    "    True\n",
    "    \"\"\"\n",
    "    \"*** YOUR CODE HERE ***\"\n",
    "    for i in range(len(s)):\n",
    "        if not isinstance(s[i],list):\n",
    "            s[i] = f(s[i])\n",
    "        else:\n",
    "            deep_map(f, s[i])"
   ]
  },
  {
   "cell_type": "code",
   "execution_count": 7,
   "metadata": {},
   "outputs": [],
   "source": [
    "six = [1, 2, [3, [4], 5], 6]"
   ]
  },
  {
   "cell_type": "code",
   "execution_count": 8,
   "metadata": {},
   "outputs": [],
   "source": [
    "deep_map(lambda x: x * x, six)"
   ]
  },
  {
   "cell_type": "code",
   "execution_count": 9,
   "metadata": {},
   "outputs": [
    {
     "data": {
      "text/plain": [
       "[1, 4, [9, [16], 25], 36]"
      ]
     },
     "execution_count": 9,
     "metadata": {},
     "output_type": "execute_result"
    }
   ],
   "source": [
    "six"
   ]
  },
  {
   "cell_type": "code",
   "execution_count": null,
   "metadata": {},
   "outputs": [],
   "source": []
  }
 ],
 "metadata": {
  "kernelspec": {
   "display_name": "base",
   "language": "python",
   "name": "python3"
  },
  "language_info": {
   "codemirror_mode": {
    "name": "ipython",
    "version": 3
   },
   "file_extension": ".py",
   "mimetype": "text/x-python",
   "name": "python",
   "nbconvert_exporter": "python",
   "pygments_lexer": "ipython3",
   "version": "3.11.7"
  }
 },
 "nbformat": 4,
 "nbformat_minor": 2
}
