{
 "cells": [
  {
   "cell_type": "code",
   "execution_count": 53,
   "metadata": {},
   "outputs": [],
   "source": [
    "class Email:\n",
    "    \"\"\"An email has the following instance attributes:\n",
    "\n",
    "        msg (str): the contents of the message\n",
    "        sender (Client): the client that sent the email\n",
    "        recipient_name (str): the name of the recipient (another client)\n",
    "    \"\"\"\n",
    "    def __init__(self, msg, sender, recipient_name):\n",
    "        self.msg = msg\n",
    "        self.sender = sender\n",
    "        self.recipient_name = recipient_name\n",
    "\n",
    "\n"
   ]
  },
  {
   "cell_type": "code",
   "execution_count": 54,
   "metadata": {},
   "outputs": [],
   "source": [
    "class Server:\n",
    "    \"\"\"Each Server has one instance attribute called clients that is a\n",
    "    dictionary from client names to client objects.\n",
    "    \"\"\"\n",
    "    def __init__(self):\n",
    "        self.clients = {}\n",
    "\n",
    "    def send(self, email):\n",
    "        \"\"\"Append the email to the inbox of the client it is addressed to.\"\"\"\n",
    "        self.clients[email.recipient_name].inbox.append(email)\n",
    "\n",
    "    def register_client(self, client):\n",
    "        \"\"\"Add a client to the dictionary of( clients.\"\"\"\n",
    "        self.clients[client.name] = client"
   ]
  },
  {
   "cell_type": "code",
   "execution_count": 58,
   "metadata": {},
   "outputs": [],
   "source": [
    "class Client:\n",
    "    \"\"\"A client has a server, a name (str), and an inbox (list).\n",
    "\n",
    "    >>> s = Server()\n",
    "    >>> a = Client(s, 'Alice')\n",
    "    >>> b = Client(s, 'Bob')\n",
    "    >>> a.compose('Hello, World!', 'Bob')\n",
    "    >>> b.inbox[0].msg\n",
    "    'Hello, World!'\n",
    "    >>> a.compose('CS 61A Rocks!', 'Bob')\n",
    "    >>> len(b.inbox)\n",
    "    2\n",
    "    >>> b.inbox[1].msg\n",
    "    'CS 61A Rocks!'\n",
    "    >>> b.inbox[1].sender.name\n",
    "    'Alice'\n",
    "    \"\"\"\n",
    "    def __init__(self, server, name):\n",
    "        self.inbox = []\n",
    "        self.server = server\n",
    "        self.name = name\n",
    "        server.register_client(self)\n",
    "\n",
    "    def compose(self, message, recipient_name):\n",
    "        \"\"\"Send an email with the given message to the recipient.\"\"\"\n",
    "        email = Email(message, self.name, recipient_name)\n",
    "        self.server.send(email)\n"
   ]
  },
  {
   "cell_type": "code",
   "execution_count": 59,
   "metadata": {},
   "outputs": [],
   "source": [
    "s = Server()\n"
   ]
  },
  {
   "cell_type": "code",
   "execution_count": 60,
   "metadata": {},
   "outputs": [],
   "source": [
    "a = Client(s, 'Alice')"
   ]
  },
  {
   "cell_type": "code",
   "execution_count": 61,
   "metadata": {},
   "outputs": [],
   "source": [
    "b = Client(s, 'Bob')"
   ]
  },
  {
   "cell_type": "code",
   "execution_count": 62,
   "metadata": {},
   "outputs": [],
   "source": [
    "a.compose('Hello, World!', 'Bob')"
   ]
  },
  {
   "cell_type": "code",
   "execution_count": 104,
   "metadata": {},
   "outputs": [],
   "source": [
    "def make_change(amount, coins):\n",
    "    \"\"\"Return a list of coins that sum to amount, preferring the smallest coins\n",
    "    available and placing the smallest coins first in the returned list.\n",
    "\n",
    "    The coins argument is a dictionary with keys that are positive integer\n",
    "    denominations and values that are positive integer coin counts.\n",
    "\n",
    "    >>> make_change(2, {2: 1})\n",
    "    [2]\n",
    "    >>> make_change(2, {1: 2, 2: 1})\n",
    "    [1, 1]\n",
    "    >>> make_change(4, {1: 2, 2: 1})\n",
    "    [1, 1, 2]\n",
    "    >>> make_change(4, {2: 1}) == None\n",
    "    True\n",
    "\n",
    "    >>> coins = {2: 2, 3: 2, 4: 3, 5: 1}\n",
    "    >>> make_change(4, coins)\n",
    "    [2, 2]\n",
    "    >>> make_change(8, coins)\n",
    "    [2, 2, 4]\n",
    "    >>> make_change(25, coins)\n",
    "    [2, 3, 3, 4, 4, 4, 5]\n",
    "    >>> coins[8] = 1\n",
    "    >>> make_change(25, coins)\n",
    "    [2, 2, 4, 4, 5, 8]\n",
    "    \"\"\"\n",
    "    if not coins:\n",
    "        return None\n",
    "    smallest = min(coins)\n",
    "    rest = remove_one(coins, smallest)\n",
    "    if amount < smallest:\n",
    "        return None\n",
    "    \"*** YOUR CODE HERE ***\"\n",
    "\n",
    "    if amount == smallest:\n",
    "        return [smallest]\n",
    "    else:\n",
    "        if make_change(amount - smallest, rest):\n",
    "            return [smallest] + make_change(amount - smallest, rest)\n",
    "        else:\n",
    "            return make_change(amount, rest)\n",
    "\n",
    "    \n"
   ]
  },
  {
   "cell_type": "code",
   "execution_count": 97,
   "metadata": {},
   "outputs": [
    {
     "data": {
      "text/plain": [
       "[2, 3, 3, 4, 4, 4, 5]"
      ]
     },
     "execution_count": 97,
     "metadata": {},
     "output_type": "execute_result"
    }
   ],
   "source": [
    "coins = {2: 2, 3: 2, 4: 3, 5: 1}\n",
    "make_change(25, coins)"
   ]
  },
  {
   "cell_type": "code",
   "execution_count": 78,
   "metadata": {},
   "outputs": [],
   "source": [
    "\n",
    "def remove_one(coins, coin):\n",
    "    \"\"\"Remove one coin from a dictionary of coins. Return a new dictionary,\n",
    "    leaving the original dictionary coins unchanged.\n",
    "\n",
    "    >>> coins = {2: 5, 3: 2, 6: 1}\n",
    "    >>> remove_one(coins, 2) == {2: 4, 3: 2, 6: 1}\n",
    "    True\n",
    "    >>> remove_one(coins, 6) == {2: 5, 3: 2}\n",
    "    True\n",
    "    >>> coins == {2: 5, 3: 2, 6: 1} # Unchanged\n",
    "    True\n",
    "    \"\"\"\n",
    "    copy = dict(coins)\n",
    "    count = copy.pop(coin) - 1  # The coin denomination is removed\n",
    "    if count:\n",
    "        copy[coin] = count      # The coin denomination is added back\n",
    "    return copy"
   ]
  },
  {
   "cell_type": "code",
   "execution_count": null,
   "metadata": {},
   "outputs": [],
   "source": []
  },
  {
   "cell_type": "code",
   "execution_count": 81,
   "metadata": {},
   "outputs": [
    {
     "data": {
      "text/plain": [
       "'No way'"
      ]
     },
     "execution_count": 81,
     "metadata": {},
     "output_type": "execute_result"
    }
   ],
   "source": []
  },
  {
   "cell_type": "code",
   "execution_count": 121,
   "metadata": {},
   "outputs": [
    {
     "data": {
      "text/plain": [
       "[1, 1]"
      ]
     },
     "execution_count": 121,
     "metadata": {},
     "output_type": "execute_result"
    }
   ],
   "source": [
    "make_change(2, {1: 2})"
   ]
  },
  {
   "cell_type": "code",
   "execution_count": 95,
   "metadata": {},
   "outputs": [
    {
     "data": {
      "text/plain": [
       "[1, 1]"
      ]
     },
     "execution_count": 95,
     "metadata": {},
     "output_type": "execute_result"
    }
   ],
   "source": [
    "make_change(2, {1: 2, 2: 1})"
   ]
  },
  {
   "cell_type": "code",
   "execution_count": 112,
   "metadata": {},
   "outputs": [],
   "source": [
    "class ChangeMachine:\n",
    "    \"\"\"A change machine holds a certain number of coins, initially all pennies.\n",
    "    The change method adds a single coin of some denomination X and returns a\n",
    "    list of coins that sums to X. The machine prefers to return the smallest\n",
    "    coins available. The total value in the machine never changes, and it can\n",
    "    always make change for any coin (perhaps by returning the coin passed in).\n",
    "\n",
    "    The coins attribute is a dictionary with keys that are positive integer\n",
    "    denominations and values that are positive integer coin counts.\n",
    "\n",
    "    >>> m = ChangeMachine(2)\n",
    "    >>> m.coins == {1: 2}\n",
    "    True\n",
    "    >>> m.change(2)\n",
    "    [1, 1]\n",
    "    >>> m.coins == {2: 1}\n",
    "    True\n",
    "    >>> m.change(2)\n",
    "    [2]\n",
    "    >>> m.coins == {2: 1}\n",
    "    True\n",
    "    >>> m.change(3)\n",
    "    [3]\n",
    "    >>> m.coins == {2: 1}\n",
    "    True\n",
    "\n",
    "    >>> m = ChangeMachine(10) # 10 pennies\n",
    "    >>> m.coins == {1: 10}\n",
    "    True\n",
    "    >>> m.change(5) # takes a nickel & returns 5 pennies\n",
    "    [1, 1, 1, 1, 1]\n",
    "    >>> m.coins == {1: 5, 5: 1} # 5 pennies & a nickel remain\n",
    "    True\n",
    "    >>> m.change(3)\n",
    "    [1, 1, 1]\n",
    "    >>> m.coins == {1: 2, 3: 1, 5: 1}\n",
    "    True\n",
    "    >>> m.change(2)\n",
    "    [1, 1]\n",
    "    >>> m.change(2) # not enough 1's remaining; return a 2\n",
    "    [2]\n",
    "    >>> m.coins == {2: 1, 3: 1, 5: 1}\n",
    "    True\n",
    "    >>> m.change(8) # cannot use the 2 to make 8, so use 3 & 5\n",
    "    [3, 5]\n",
    "    >>> m.coins == {2: 1, 8: 1}\n",
    "    True\n",
    "    >>> m.change(1) # return the penny passed in (it's the smallest)\n",
    "    [1]\n",
    "    >>> m.change(9) # return the 9 passed in (no change possible)\n",
    "    [9]\n",
    "    >>> m.coins == {2: 1, 8: 1}\n",
    "    True\n",
    "    >>> m.change(10)\n",
    "    [2, 8]\n",
    "    >>> m.coins == {10: 1}\n",
    "    True\n",
    "\n",
    "    >>> m = ChangeMachine(9)\n",
    "    >>> [m.change(k) for k in [2, 2, 3]]\n",
    "    [[1, 1], [1, 1], [1, 1, 1]]\n",
    "    >>> m.coins == {1: 2, 2: 2, 3: 1}\n",
    "    True\n",
    "    >>> m.change(5) # Prefers [1, 1, 3] to [1, 2, 2] (more pennies)\n",
    "    [1, 1, 3]\n",
    "    >>> m.change(7)\n",
    "    [2, 5]\n",
    "    >>> m.coins == {2: 1, 7: 1}\n",
    "    True\n",
    "    \"\"\"\n",
    "    def __init__(self, pennies):\n",
    "        self.coins = {1: pennies}\n",
    "\n",
    "    def change(self, coin):\n",
    "        \"\"\"Return change for coin, removing the result from self.coins.\"\"\"\n",
    "        \"*** YOUR CODE HERE ***\"\n",
    "        return make_change(coin, self.coins)\n",
    "        "
   ]
  },
  {
   "cell_type": "code",
   "execution_count": null,
   "metadata": {},
   "outputs": [],
   "source": []
  },
  {
   "cell_type": "code",
   "execution_count": 122,
   "metadata": {},
   "outputs": [],
   "source": [
    "m = ChangeMachine(2)"
   ]
  },
  {
   "cell_type": "code",
   "execution_count": 123,
   "metadata": {},
   "outputs": [
    {
     "data": {
      "text/plain": [
       "{1: 2}"
      ]
     },
     "execution_count": 123,
     "metadata": {},
     "output_type": "execute_result"
    }
   ],
   "source": [
    "m.coins"
   ]
  },
  {
   "cell_type": "code",
   "execution_count": 124,
   "metadata": {},
   "outputs": [
    {
     "data": {
      "text/plain": [
       "[1, 1]"
      ]
     },
     "execution_count": 124,
     "metadata": {},
     "output_type": "execute_result"
    }
   ],
   "source": [
    "m.change(2)"
   ]
  },
  {
   "cell_type": "code",
   "execution_count": 132,
   "metadata": {},
   "outputs": [],
   "source": [
    "b =[2,3,4]"
   ]
  },
  {
   "cell_type": "code",
   "execution_count": 126,
   "metadata": {},
   "outputs": [],
   "source": [
    "a = b"
   ]
  },
  {
   "cell_type": "code",
   "execution_count": 127,
   "metadata": {},
   "outputs": [
    {
     "data": {
      "text/plain": [
       "[2, 3, 4]"
      ]
     },
     "execution_count": 127,
     "metadata": {},
     "output_type": "execute_result"
    }
   ],
   "source": [
    "a"
   ]
  },
  {
   "cell_type": "code",
   "execution_count": 129,
   "metadata": {},
   "outputs": [
    {
     "data": {
      "text/plain": [
       "4"
      ]
     },
     "execution_count": 129,
     "metadata": {},
     "output_type": "execute_result"
    }
   ],
   "source": [
    "a.pop()"
   ]
  },
  {
   "cell_type": "code",
   "execution_count": 130,
   "metadata": {},
   "outputs": [
    {
     "data": {
      "text/plain": [
       "[2, 3]"
      ]
     },
     "execution_count": 130,
     "metadata": {},
     "output_type": "execute_result"
    }
   ],
   "source": [
    "b"
   ]
  },
  {
   "cell_type": "code",
   "execution_count": 133,
   "metadata": {},
   "outputs": [],
   "source": [
    "a = b.copy()"
   ]
  },
  {
   "cell_type": "code",
   "execution_count": 134,
   "metadata": {},
   "outputs": [
    {
     "data": {
      "text/plain": [
       "[2, 3, 4]"
      ]
     },
     "execution_count": 134,
     "metadata": {},
     "output_type": "execute_result"
    }
   ],
   "source": [
    "a"
   ]
  },
  {
   "cell_type": "code",
   "execution_count": 135,
   "metadata": {},
   "outputs": [
    {
     "data": {
      "text/plain": [
       "[2, 3, 4]"
      ]
     },
     "execution_count": 135,
     "metadata": {},
     "output_type": "execute_result"
    }
   ],
   "source": [
    "b"
   ]
  },
  {
   "cell_type": "code",
   "execution_count": 136,
   "metadata": {},
   "outputs": [
    {
     "data": {
      "text/plain": [
       "4"
      ]
     },
     "execution_count": 136,
     "metadata": {},
     "output_type": "execute_result"
    }
   ],
   "source": [
    "a.pop()"
   ]
  },
  {
   "cell_type": "code",
   "execution_count": 138,
   "metadata": {},
   "outputs": [],
   "source": [
    "b=None"
   ]
  },
  {
   "cell_type": "code",
   "execution_count": 141,
   "metadata": {},
   "outputs": [
    {
     "data": {
      "text/plain": [
       "'None'"
      ]
     },
     "execution_count": 141,
     "metadata": {},
     "output_type": "execute_result"
    }
   ],
   "source": [
    "str(b)"
   ]
  },
  {
   "cell_type": "code",
   "execution_count": 156,
   "metadata": {},
   "outputs": [],
   "source": [
    "class ChangeMachine:\n",
    "    \"\"\"A change machine holds a certain number of coins, initially all pennies.\n",
    "    The change method adds a single coin of some denomination X and returns a\n",
    "    list of coins that sums to X. The machine prefers to return the smallest\n",
    "    coins available. The total value in the machine never changes, and it can\n",
    "    always make change for any coin (perhaps by returning the coin passed in).\n",
    "\n",
    "    The coins attribute is a dictionary with keys that are positive integer\n",
    "    denominations and values that are positive integer coin counts.\n",
    "\n",
    "    >>> m = ChangeMachine(2)\n",
    "    >>> m.coins == {1: 2}\n",
    "    True\n",
    "    >>> m.change(2)\n",
    "    [1, 1]\n",
    "    >>> m.coins == {2: 1}\n",
    "    True\n",
    "    >>> m.change(2)\n",
    "    [2]\n",
    "    >>> m.coins == {2: 1}\n",
    "    True\n",
    "    >>> m.change(3)\n",
    "    [3]\n",
    "    >>> m.coins == {2: 1}\n",
    "    True\n",
    "\n",
    "    >>> m = ChangeMachine(10) # 10 pennies\n",
    "    >>> m.coins == {1: 10}\n",
    "    True\n",
    "    >>> m.change(5) # takes a nickel & returns 5 pennies\n",
    "    [1, 1, 1, 1, 1]\n",
    "    >>> m.coins == {1: 5, 5: 1} # 5 pennies & a nickel remain\n",
    "    True\n",
    "    >>> m.change(3)\n",
    "    [1, 1, 1]\n",
    "    >>> m.coins == {1: 2, 3: 1, 5: 1}\n",
    "    True\n",
    "    >>> m.change(2)\n",
    "    [1, 1]\n",
    "    >>> m.change(2) # not enough 1's remaining; return a 2\n",
    "    [2]\n",
    "    >>> m.coins == {2: 1, 3: 1, 5: 1}\n",
    "    True\n",
    "    >>> m.change(8) # cannot use the 2 to make 8, so use 3 & 5\n",
    "    [3, 5]\n",
    "    >>> m.coins == {2: 1, 8: 1}\n",
    "    True\n",
    "    >>> m.change(1) # return the penny passed in (it's the smallest)\n",
    "    [1]\n",
    "    >>> m.change(9) # return the 9 passed in (no change possible)\n",
    "    [9]\n",
    "    >>> m.coins == {2: 1, 8: 1}\n",
    "    True\n",
    "    >>> m.change(10)\n",
    "    [2, 8]\n",
    "    >>> m.coins == {10: 1}\n",
    "    True\n",
    "\n",
    "    >>> m = ChangeMachine(9)\n",
    "    >>> [m.change(k) for k in [2, 2, 3]]\n",
    "    [[1, 1], [1, 1], [1, 1, 1]]\n",
    "    >>> m.coins == {1: 2, 2: 2, 3: 1}\n",
    "    True\n",
    "    >>> m.change(5) # Prefers [1, 1, 3] to [1, 2, 2] (more pennies)\n",
    "    [1, 1, 3]\n",
    "    >>> m.change(7)\n",
    "    [2, 5]\n",
    "    >>> m.coins == {2: 1, 7: 1}\n",
    "    True\n",
    "    \"\"\"\n",
    "    def __init__(self, pennies):\n",
    "        self.coins = {1: pennies}\n",
    "\n",
    "    def change(self, coin):\n",
    "        \"\"\"Return change for coin, removing the result from self.coins.\"\"\"\n",
    "        \"*** YOUR CODE HERE ***\"\n",
    "        coin_changed = make_change(coin, self.coins)\n",
    "        if coin_changed:\n",
    "            for little_change in coin_changed:\n",
    "                self.coins = remove_one(self.coins, little_change)\n",
    "            self.coins[coin]=1\n",
    "            return coin_changed\n",
    "        return coin"
   ]
  },
  {
   "cell_type": "code",
   "execution_count": 173,
   "metadata": {},
   "outputs": [],
   "source": [
    "m = ChangeMachine(20)"
   ]
  },
  {
   "cell_type": "code",
   "execution_count": 174,
   "metadata": {},
   "outputs": [
    {
     "data": {
      "text/plain": [
       "[1, 1]"
      ]
     },
     "execution_count": 174,
     "metadata": {},
     "output_type": "execute_result"
    }
   ],
   "source": [
    "m.change(2)"
   ]
  },
  {
   "cell_type": "code",
   "execution_count": 175,
   "metadata": {},
   "outputs": [
    {
     "data": {
      "text/plain": [
       "{1: 18, 2: 1}"
      ]
     },
     "execution_count": 175,
     "metadata": {},
     "output_type": "execute_result"
    }
   ],
   "source": [
    "m.coins"
   ]
  },
  {
   "cell_type": "code",
   "execution_count": 176,
   "metadata": {},
   "outputs": [
    {
     "data": {
      "text/plain": [
       "[1, 1]"
      ]
     },
     "execution_count": 176,
     "metadata": {},
     "output_type": "execute_result"
    }
   ],
   "source": [
    "m.change(2)"
   ]
  },
  {
   "cell_type": "code",
   "execution_count": 177,
   "metadata": {},
   "outputs": [
    {
     "data": {
      "text/plain": [
       "{2: 1, 1: 16}"
      ]
     },
     "execution_count": 177,
     "metadata": {},
     "output_type": "execute_result"
    }
   ],
   "source": [
    "m.coins"
   ]
  },
  {
   "cell_type": "code",
   "execution_count": 178,
   "metadata": {},
   "outputs": [
    {
     "data": {
      "text/plain": [
       "[1, 1]"
      ]
     },
     "execution_count": 178,
     "metadata": {},
     "output_type": "execute_result"
    }
   ],
   "source": [
    "m.change(2)"
   ]
  },
  {
   "cell_type": "code",
   "execution_count": 179,
   "metadata": {},
   "outputs": [
    {
     "data": {
      "text/plain": [
       "{2: 1, 1: 14}"
      ]
     },
     "execution_count": 179,
     "metadata": {},
     "output_type": "execute_result"
    }
   ],
   "source": [
    "m.coins"
   ]
  },
  {
   "cell_type": "code",
   "execution_count": 180,
   "metadata": {},
   "outputs": [
    {
     "data": {
      "text/plain": [
       "[1, 1, 1]"
      ]
     },
     "execution_count": 180,
     "metadata": {},
     "output_type": "execute_result"
    }
   ],
   "source": [
    "m.change(3)"
   ]
  },
  {
   "cell_type": "code",
   "execution_count": 181,
   "metadata": {},
   "outputs": [
    {
     "data": {
      "text/plain": [
       "{2: 1, 1: 11, 3: 1}"
      ]
     },
     "execution_count": 181,
     "metadata": {},
     "output_type": "execute_result"
    }
   ],
   "source": [
    "m.coins"
   ]
  },
  {
   "cell_type": "code",
   "execution_count": null,
   "metadata": {},
   "outputs": [],
   "source": []
  },
  {
   "cell_type": "code",
   "execution_count": null,
   "metadata": {},
   "outputs": [],
   "source": []
  }
 ],
 "metadata": {
  "kernelspec": {
   "display_name": "base",
   "language": "python",
   "name": "python3"
  },
  "language_info": {
   "codemirror_mode": {
    "name": "ipython",
    "version": 3
   },
   "file_extension": ".py",
   "mimetype": "text/x-python",
   "name": "python",
   "nbconvert_exporter": "python",
   "pygments_lexer": "ipython3",
   "version": "3.11.7"
  }
 },
 "nbformat": 4,
 "nbformat_minor": 2
}
