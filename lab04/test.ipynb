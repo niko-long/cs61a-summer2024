{
 "cells": [
  {
   "cell_type": "code",
   "execution_count": 3,
   "metadata": {},
   "outputs": [],
   "source": [
    "suits = ['coin','string','myriad']"
   ]
  },
  {
   "cell_type": "code",
   "execution_count": 4,
   "metadata": {},
   "outputs": [],
   "source": [
    "original_suits = suits"
   ]
  },
  {
   "cell_type": "code",
   "execution_count": 5,
   "metadata": {},
   "outputs": [
    {
     "data": {
      "text/plain": [
       "'myriad'"
      ]
     },
     "execution_count": 5,
     "metadata": {},
     "output_type": "execute_result"
    }
   ],
   "source": [
    "suits.pop()"
   ]
  },
  {
   "cell_type": "code",
   "execution_count": 6,
   "metadata": {},
   "outputs": [
    {
     "data": {
      "text/plain": [
       "'string'"
      ]
     },
     "execution_count": 6,
     "metadata": {},
     "output_type": "execute_result"
    }
   ],
   "source": [
    "suits.pop()"
   ]
  },
  {
   "cell_type": "code",
   "execution_count": 7,
   "metadata": {},
   "outputs": [
    {
     "data": {
      "text/plain": [
       "'coin'"
      ]
     },
     "execution_count": 7,
     "metadata": {},
     "output_type": "execute_result"
    }
   ],
   "source": [
    "suits.pop()"
   ]
  },
  {
   "cell_type": "code",
   "execution_count": 42,
   "metadata": {},
   "outputs": [],
   "source": [
    "def buy(required_fruits, prices, total_amount):\n",
    "    \"\"\"Print ways to buy some of each fruit so that the sum of prices is amount.\n",
    "\n",
    "    >>> prices = {'oranges': 4, 'apples': 3, 'bananas': 2, 'kiwis': 9}\n",
    "    >>> buy(['apples', 'oranges', 'bananas'], prices, 12)\n",
    "    [2 apples][1 orange][1 banana]\n",
    "    >>> buy(['apples', 'oranges', 'bananas'], prices, 16)\n",
    "    [2 apples][1 orange][3 bananas]\n",
    "    [2 apples][2 oranges][1 banana]\n",
    "    >>> buy(['apples', 'kiwis'], prices, 36)\n",
    "    [3 apples][3 kiwis]\n",
    "    [6 apples][2 kiwis]\n",
    "    [9 apples][1 kiwi]\n",
    "    \"\"\"\n",
    "    def add(fruits, amount, cart):\n",
    "        if fruits == [] and amount == 0:\n",
    "            print(cart)\n",
    "        elif fruits and amount > 0:\n",
    "            fruit = fruits[0]\n",
    "            price = prices[fruit]\n",
    "            for k in range(1,amount//price+1):\n",
    "                add(fruits[1:], amount-k*price, cart + display(fruit, k))\n",
    "    add(required_fruits, total_amount, '')\n",
    "\n",
    "\n",
    "def display(fruit, count):\n",
    "    \"\"\"Display a count of a fruit in square brackets.\n",
    "\n",
    "    >>> display('apples', 3)\n",
    "    '[3 apples]'\n",
    "    >>> display('apples', 1)\n",
    "    '[1 apple]'\n",
    "    \"\"\"\n",
    "    assert count >= 1 and fruit[-1] == 's'\n",
    "    if count == 1:\n",
    "        fruit = fruit[:-1]  # get rid of the plural s\n",
    "    return '[' + str(count) + ' ' + fruit + ']'"
   ]
  },
  {
   "cell_type": "code",
   "execution_count": 43,
   "metadata": {},
   "outputs": [
    {
     "name": "stdout",
     "output_type": "stream",
     "text": [
      "[2 apples][1 orange][1 banana]\n"
     ]
    }
   ],
   "source": [
    "prices = {'oranges': 4, 'apples': 3, 'bananas': 2, 'kiwis': 9}\n",
    "buy(['apples', 'oranges', 'bananas'], prices, 12)"
   ]
  },
  {
   "cell_type": "code",
   "execution_count": 31,
   "metadata": {},
   "outputs": [],
   "source": [
    "fruit = ['apples', 'oranges', 'bananas']"
   ]
  },
  {
   "cell_type": "code",
   "execution_count": 32,
   "metadata": {},
   "outputs": [],
   "source": [
    "fruit = fruit[1:]"
   ]
  },
  {
   "cell_type": "code",
   "execution_count": 33,
   "metadata": {},
   "outputs": [
    {
     "data": {
      "text/plain": [
       "['oranges', 'bananas']"
      ]
     },
     "execution_count": 33,
     "metadata": {},
     "output_type": "execute_result"
    }
   ],
   "source": [
    "fruit"
   ]
  },
  {
   "cell_type": "code",
   "execution_count": 34,
   "metadata": {},
   "outputs": [],
   "source": [
    "fruit = fruit[1:]"
   ]
  },
  {
   "cell_type": "code",
   "execution_count": 35,
   "metadata": {},
   "outputs": [
    {
     "data": {
      "text/plain": [
       "['bananas']"
      ]
     },
     "execution_count": 35,
     "metadata": {},
     "output_type": "execute_result"
    }
   ],
   "source": [
    "fruit"
   ]
  },
  {
   "cell_type": "code",
   "execution_count": 36,
   "metadata": {},
   "outputs": [],
   "source": [
    "fruit = fruit[1:]"
   ]
  },
  {
   "cell_type": "code",
   "execution_count": 37,
   "metadata": {},
   "outputs": [
    {
     "data": {
      "text/plain": [
       "[]"
      ]
     },
     "execution_count": 37,
     "metadata": {},
     "output_type": "execute_result"
    }
   ],
   "source": [
    "fruit"
   ]
  },
  {
   "cell_type": "code",
   "execution_count": 38,
   "metadata": {},
   "outputs": [],
   "source": [
    "fruit = fruit[1:]"
   ]
  },
  {
   "cell_type": "code",
   "execution_count": 39,
   "metadata": {},
   "outputs": [
    {
     "data": {
      "text/plain": [
       "[]"
      ]
     },
     "execution_count": 39,
     "metadata": {},
     "output_type": "execute_result"
    }
   ],
   "source": [
    "fruit"
   ]
  }
 ],
 "metadata": {
  "kernelspec": {
   "display_name": "base",
   "language": "python",
   "name": "python3"
  },
  "language_info": {
   "codemirror_mode": {
    "name": "ipython",
    "version": 3
   },
   "file_extension": ".py",
   "mimetype": "text/x-python",
   "name": "python",
   "nbconvert_exporter": "python",
   "pygments_lexer": "ipython3",
   "version": "3.11.7"
  }
 },
 "nbformat": 4,
 "nbformat_minor": 2
}
