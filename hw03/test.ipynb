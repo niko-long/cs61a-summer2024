{
 "cells": [
  {
   "cell_type": "code",
   "execution_count": 5,
   "metadata": {},
   "outputs": [
    {
     "data": {
      "text/plain": [
       "1"
      ]
     },
     "execution_count": 5,
     "metadata": {},
     "output_type": "execute_result"
    }
   ],
   "source": [
    "n = 18\n",
    "int(n % 10 == 8)"
   ]
  },
  {
   "cell_type": "code",
   "execution_count": 7,
   "metadata": {},
   "outputs": [],
   "source": [
    "def digit_distance(n):\n",
    "    \"\"\"Determines the digit distance of n.\n",
    "\n",
    "    >>> digit_distance(3)\n",
    "    0\n",
    "    >>> digit_distance(777)\n",
    "    0\n",
    "    >>> digit_distance(314)\n",
    "    5\n",
    "    >>> digit_distance(31415926535)\n",
    "    32\n",
    "    >>> digit_distance(3464660003)\n",
    "    16\n",
    "    >>> from construct_check import check\n",
    "    >>> # ban all loops\n",
    "    >>> check(HW_SOURCE_FILE, 'digit_distance',\n",
    "    ...       ['For', 'While'])\n",
    "    True\n",
    "    \"\"\"\n",
    "    \"*** YOUR CODE HERE ***\"\n",
    "    if n < 10:\n",
    "        return 0\n",
    "    else:\n",
    "        return abs((n // 10) % 10 - n % 10) + digit_distance(n//10)"
   ]
  },
  {
   "cell_type": "code",
   "execution_count": 8,
   "metadata": {},
   "outputs": [
    {
     "data": {
      "text/plain": [
       "0"
      ]
     },
     "execution_count": 8,
     "metadata": {},
     "output_type": "execute_result"
    }
   ],
   "source": [
    "digit_distance(777)"
   ]
  },
  {
   "cell_type": "code",
   "execution_count": 9,
   "metadata": {},
   "outputs": [],
   "source": [
    "def interleaved_sum(n, odd_func, even_func):\n",
    "    \"\"\"Compute the sum odd_func(1) + even_func(2) + odd_func(3) + ..., up\n",
    "    to n.\n",
    "\n",
    "    >>> identity = lambda x: x\n",
    "    >>> square = lambda x: x * x\n",
    "    >>> triple = lambda x: x * 3\n",
    "    >>> interleaved_sum(5, identity, square) # 1   + 2*2 + 3   + 4*4 + 5\n",
    "    29\n",
    "    >>> interleaved_sum(5, square, identity) # 1*1 + 2   + 3*3 + 4   + 5*5\n",
    "    41\n",
    "    >>> interleaved_sum(4, triple, square)   # 1*3 + 2*2 + 3*3 + 4*4\n",
    "    32\n",
    "    >>> interleaved_sum(4, square, triple)   # 1*1 + 2*3 + 3*3 + 4*3\n",
    "    28\n",
    "    >>> from construct_check import check\n",
    "    >>> check(HW_SOURCE_FILE, 'interleaved_sum', ['While', 'For', 'Mod']) # ban loops and %\n",
    "    True\n",
    "    \"\"\"\n",
    "    \"*** YOUR CODE HERE ***\"\n",
    "    def oddOrEven(n):\n",
    "        if n == 0:\n",
    "            return 0\n",
    "        else:\n",
    "            if (n-1) == 0:\n",
    "                return 1\n",
    "            else:\n",
    "                return  oddOrEven((n-1)-1)\n",
    "    if n == 0:\n",
    "        return even_func(n)\n",
    "    else:\n",
    "        if oddOrEven(n) == 0:\n",
    "            return even_func(n) +  interleaved_sum(n-1, odd_func, even_func)\n",
    "        else:\n",
    "            return odd_func(n) + interleaved_sum(n-1, odd_func, even_func)"
   ]
  },
  {
   "cell_type": "code",
   "execution_count": 16,
   "metadata": {},
   "outputs": [],
   "source": [
    "def oddOrEven(n):\n",
    "    if n == 0:\n",
    "        return 0\n",
    "    else:\n",
    "        if (n-1) == 0:\n",
    "            return 1\n",
    "        else:\n",
    "            return  oddOrEven((n-1)-1)"
   ]
  },
  {
   "cell_type": "code",
   "execution_count": 18,
   "metadata": {},
   "outputs": [
    {
     "data": {
      "text/plain": [
       "1"
      ]
     },
     "execution_count": 18,
     "metadata": {},
     "output_type": "execute_result"
    }
   ],
   "source": [
    "oddOrEven(5)"
   ]
  },
  {
   "cell_type": "code",
   "execution_count": 10,
   "metadata": {},
   "outputs": [],
   "source": [
    "identity = lambda x: x\n",
    "square = lambda x: x * x\n",
    "triple = lambda x: x * 3"
   ]
  },
  {
   "cell_type": "code",
   "execution_count": 15,
   "metadata": {},
   "outputs": [
    {
     "data": {
      "text/plain": [
       "3"
      ]
     },
     "execution_count": 15,
     "metadata": {},
     "output_type": "execute_result"
    }
   ],
   "source": [
    "interleaved_sum(2, identity, square)"
   ]
  },
  {
   "cell_type": "code",
   "execution_count": 4,
   "metadata": {},
   "outputs": [
    {
     "name": "stdout",
     "output_type": "stream",
     "text": [
      "\u001b[31mERROR: Could not find a version that satisfies the requirement ucb (from versions: none)\u001b[0m\u001b[31m\n",
      "\u001b[0m\u001b[31mERROR: No matching distribution found for ucb\u001b[0m\u001b[31m\n",
      "\u001b[0m"
     ]
    }
   ],
   "source": [
    "! pip install ucb"
   ]
  },
  {
   "cell_type": "code",
   "execution_count": 1,
   "metadata": {},
   "outputs": [],
   "source": [
    "def count_partitions(n,m):\n",
    "    if n == 0:\n",
    "        return 1\n",
    "    elif n < 0:\n",
    "        return 0\n",
    "    elif m == 0:\n",
    "        return 0\n",
    "    else:\n",
    "        with_m = count_partitions(n-m, m)\n",
    "        without_m = count_partitions(n,m-1)\n",
    "        return with_m + without_m"
   ]
  },
  {
   "cell_type": "code",
   "execution_count": 5,
   "metadata": {},
   "outputs": [
    {
     "data": {
      "text/plain": [
       "6"
      ]
     },
     "execution_count": 5,
     "metadata": {},
     "output_type": "execute_result"
    }
   ],
   "source": [
    "count_partitions(5,4)"
   ]
  },
  {
   "cell_type": "code",
   "execution_count": 76,
   "metadata": {},
   "outputs": [],
   "source": [
    "def next_larger_coin(coin):\n",
    "    \"\"\"Returns the next larger coin in order.\n",
    "    >>> next_larger_coin(1)\n",
    "    5\n",
    "    >>> next_larger_coin(5)\n",
    "    10\n",
    "    >>> next_larger_coin(10)\n",
    "    25\n",
    "    >>> next_larger_coin(2) # Other values return None\n",
    "    \"\"\"\n",
    "    if coin == 1:\n",
    "        return 5\n",
    "    elif coin == 5:\n",
    "        return 10\n",
    "    elif coin == 10:\n",
    "        return 25\n",
    "\n",
    "def next_smaller_coin(coin):\n",
    "    \"\"\"Returns the next smaller coin in order.\n",
    "    >>> next_smaller_coin(25)\n",
    "    10\n",
    "    >>> next_smaller_coin(10)\n",
    "    5\n",
    "    >>> next_smaller_coin(5)\n",
    "    1\n",
    "    >>> next_smaller_coin(2) # Other values return None\n",
    "    \"\"\"\n",
    "    if coin == 25:\n",
    "        return 10\n",
    "    elif coin == 10:\n",
    "        return 5\n",
    "    elif coin == 5:\n",
    "        return 1\n",
    "\n",
    "def count_coins(total):\n",
    "    def count_change_helper(total, largest_coin):\n",
    "        if total == 0:\n",
    "            return 1\n",
    "        elif total < 0:\n",
    "            return 0\n",
    "        if largest_coin == None:\n",
    "            return 0\n",
    "        with_largest_coin = count_change_helper(total-largest_coin,largest_coin)\n",
    "        without_largest_coin = count_change_helper(total, next_smaller_coin(largest_coin))\n",
    "        return with_largest_coin + without_largest_coin\n",
    "    return count_change_helper(total, 25)"
   ]
  },
  {
   "cell_type": "code",
   "execution_count": 79,
   "metadata": {},
   "outputs": [
    {
     "data": {
      "text/plain": [
       "9"
      ]
     },
     "execution_count": 79,
     "metadata": {},
     "output_type": "execute_result"
    }
   ],
   "source": [
    "count_coins(20)\n"
   ]
  }
 ],
 "metadata": {
  "kernelspec": {
   "display_name": "base",
   "language": "python",
   "name": "python3"
  },
  "language_info": {
   "codemirror_mode": {
    "name": "ipython",
    "version": 3
   },
   "file_extension": ".py",
   "mimetype": "text/x-python",
   "name": "python",
   "nbconvert_exporter": "python",
   "pygments_lexer": "ipython3",
   "version": "3.11.7"
  }
 },
 "nbformat": 4,
 "nbformat_minor": 2
}
