{
 "cells": [
  {
   "cell_type": "code",
   "execution_count": 6,
   "metadata": {},
   "outputs": [],
   "source": [
    "from operator import add, mul\n",
    "\n",
    "square = lambda x: x * x\n",
    "\n",
    "identity = lambda x: x\n",
    "\n",
    "triple = lambda x: 3 * x\n",
    "\n",
    "increment = lambda x: x + 1\n",
    "\n",
    "\n",
    "#HW_SOURCE_FILE=__file__\n",
    "\n",
    "\n",
    "def product(n, term):\n",
    "    \"\"\"Return the product of the first n terms in a sequence.\n",
    "\n",
    "    n: a positive integer\n",
    "    term:  a function that takes one argument to produce the term\n",
    "\n",
    "    >>> product(3, identity)  # 1 * 2 * 3\n",
    "    6\n",
    "    >>> product(5, identity)  # 1 * 2 * 3 * 4 * 5\n",
    "    120\n",
    "    >>> product(3, square)    # 1^2 * 2^2 * 3^2\n",
    "    36\n",
    "    >>> product(5, square)    # 1^2 * 2^2 * 3^2 * 4^2 * 5^2\n",
    "    14400\n",
    "    >>> product(3, increment) # (1+1) * (2+1) * (3+1)\n",
    "    24\n",
    "    >>> product(3, triple)    # 1*3 * 2*3 * 3*3\n",
    "    162\n",
    "    \"\"\"\n",
    "    \"*** YOUR CODE HERE ***\"\n",
    "    a = 1\n",
    "    for i in range(1,n+1):\n",
    "        a  = a * term(i)\n",
    "        print(term(i))\n",
    "    return a\n"
   ]
  },
  {
   "cell_type": "code",
   "execution_count": 7,
   "metadata": {},
   "outputs": [
    {
     "name": "stdout",
     "output_type": "stream",
     "text": [
      "1\n",
      "2\n",
      "3\n"
     ]
    },
    {
     "data": {
      "text/plain": [
       "6"
      ]
     },
     "execution_count": 7,
     "metadata": {},
     "output_type": "execute_result"
    }
   ],
   "source": [
    "product(3, identity)"
   ]
  },
  {
   "cell_type": "code",
   "execution_count": 15,
   "metadata": {},
   "outputs": [],
   "source": [
    "def accumulate(fuse, start, n, term):\n",
    "    \"\"\"Return the result of fusing together the first n terms in a sequence \n",
    "    and start.  The terms to be fused are term(1), term(2), ..., term(n). \n",
    "    The function fuse is a two-argument commutative & associative function.\n",
    "\n",
    "    >>> accumulate(add, 0, 5, identity)  # 0 + 1 + 2 + 3 + 4 + 5\n",
    "    15\n",
    "    >>> accumulate(add, 11, 5, identity) # 11 + 1 + 2 + 3 + 4 + 5\n",
    "    26\n",
    "    >>> accumulate(add, 11, 0, identity) # 11 (fuse is never used)\n",
    "    11\n",
    "    >>> accumulate(add, 11, 3, square)   # 11 + 1^2 + 2^2 + 3^2\n",
    "    25\n",
    "    >>> accumulate(mul, 2, 3, square)    # 2 * 1^2 * 2^2 * 3^2\n",
    "    72\n",
    "    >>> # 2 + (1^2 + 1) + (2^2 + 1) + (3^2 + 1)\n",
    "    >>> accumulate(lambda x, y: x + y + 1, 2, 3, square)\n",
    "    19\n",
    "    \"\"\"\n",
    "    \"*** YOUR CODE HERE ***\"\n",
    "    def fuse_ops(fuse,n):\n",
    "        a = start\n",
    "        for i in range(1,n+1):\n",
    "           a  = fuse(a, term(i))\n",
    "        return a\n",
    "    return fuse_ops(fuse,n)"
   ]
  },
  {
   "cell_type": "code",
   "execution_count": 16,
   "metadata": {},
   "outputs": [
    {
     "data": {
      "text/plain": [
       "15"
      ]
     },
     "execution_count": 16,
     "metadata": {},
     "output_type": "execute_result"
    }
   ],
   "source": [
    "accumulate(add, 0, 5, identity)"
   ]
  },
  {
   "cell_type": "code",
   "execution_count": 18,
   "metadata": {},
   "outputs": [],
   "source": [
    "def summation_using_accumulate(n, term):\n",
    "    \"\"\"Returns the sum: term(1) + ... + term(n), using accumulate.\n",
    "\n",
    "    >>> summation_using_accumulate(5, square)\n",
    "    55\n",
    "    >>> summation_using_accumulate(5, triple)\n",
    "    45\n",
    "    >>> # This test checks that the body of the function is just a return statement.\n",
    "    >>> import inspect, ast\n",
    "    >>> [type(x).__name__ for x in ast.parse(inspect.getsource(summation_using_accumulate)).body[0].body]\n",
    "    ['Expr', 'Return']\n",
    "    \"\"\"\n",
    "    return accumulate(add, 0, n, term)"
   ]
  }
 ],
 "metadata": {
  "kernelspec": {
   "display_name": "base",
   "language": "python",
   "name": "python3"
  },
  "language_info": {
   "codemirror_mode": {
    "name": "ipython",
    "version": 3
   },
   "file_extension": ".py",
   "mimetype": "text/x-python",
   "name": "python",
   "nbconvert_exporter": "python",
   "pygments_lexer": "ipython3",
   "version": "3.11.7"
  }
 },
 "nbformat": 4,
 "nbformat_minor": 2
}
