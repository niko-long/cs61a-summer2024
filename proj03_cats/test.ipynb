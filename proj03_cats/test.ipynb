{
 "cells": [
  {
   "cell_type": "code",
   "execution_count": 1,
   "metadata": {},
   "outputs": [],
   "source": [
    "from cats import about\n",
    "from cats import pick\n",
    "from utils import lower, split, remove_punctuation, lines_from_file\n",
    "from ucb import main, interact, trace\n",
    "from datetime import datetime\n"
   ]
  },
  {
   "cell_type": "code",
   "execution_count": 2,
   "metadata": {},
   "outputs": [],
   "source": [
    "def about(subject):\n",
    "    \"\"\"Return a select function that returns whether\n",
    "    a paragraph contains one of the words in SUBJECT.\n",
    "\n",
    "    Arguments:\n",
    "        subject: a list of words related to a subject\n",
    "\n",
    "    >>> about_dogs = about(['dog', 'dogs', 'pup', 'puppy'])\n",
    "    >>> pick(['Cute Dog!', 'That is a cat.', 'Nice pup!'], about_dogs, 0)\n",
    "    'Cute Dog!'\n",
    "    >>> pick(['Cute Dog!', 'That is a cat.', 'Nice pup.'], about_dogs, 1)\n",
    "    'Nice pup.'\n",
    "    \"\"\"\n",
    "    assert all([lower(x) == x for x in subject]), 'subjects should be lowercase.'\n",
    "    # BEGIN PROBLEM 2\n",
    "    \"*** YOUR CODE HERE ***\"\n",
    "    def check_words(sentence):\n",
    "        lower_sentence = lower(sentence)\n",
    "        removed_punct = remove_punctuation(lower_sentence)\n",
    "        split_paragraph = split(removed_punct)\n",
    "        for i in range(len(split_paragraph)):\n",
    "            print(i)\n",
    "            if split_paragraph[i] in subject:\n",
    "                return True\n",
    "        return False\n",
    "    return check_words"
   ]
  },
  {
   "cell_type": "code",
   "execution_count": 3,
   "metadata": {},
   "outputs": [
    {
     "name": "stdout",
     "output_type": "stream",
     "text": [
      "0\n",
      "1\n",
      "2\n",
      "3\n"
     ]
    },
    {
     "data": {
      "text/plain": [
       "True"
      ]
     },
     "execution_count": 3,
     "metadata": {},
     "output_type": "execute_result"
    }
   ],
   "source": [
    "dogs = about(['dogs', 'hounds'])\n",
    "dogs('A paragraph about dogs.')"
   ]
  },
  {
   "cell_type": "code",
   "execution_count": 4,
   "metadata": {},
   "outputs": [
    {
     "data": {
      "text/plain": [
       "False"
      ]
     },
     "execution_count": 4,
     "metadata": {},
     "output_type": "execute_result"
    }
   ],
   "source": [
    "'dog' in ['dogs', 'hounds']"
   ]
  },
  {
   "cell_type": "code",
   "execution_count": 5,
   "metadata": {},
   "outputs": [],
   "source": [
    "def accuracy(typed, source):\n",
    "    \"\"\"Return the accuracy (percentage of words typed correctly) of TYPED\n",
    "    when compared to the prefix of SOURCE that was typed.\n",
    "\n",
    "    Arguments:\n",
    "        typed: a string that may contain typos\n",
    "        source: a string without errors\n",
    "\n",
    "    >>> accuracy('Cute Dog!', 'Cute Dog.')\n",
    "    50.0\n",
    "    >>> accuracy('A Cute Dog!', 'Cute Dog.')\n",
    "    0.0\n",
    "    >>> accuracy('cute Dog.', 'Cute Dog.')\n",
    "    50.0\n",
    "    >>> accuracy('Cute Dog. I say!', 'Cute Dog.')\n",
    "    50.0\n",
    "    >>> accuracy('Cute', 'Cute Dog.')\n",
    "    100.0\n",
    "    >>> accuracy('', 'Cute Dog.')\n",
    "    0.0\n",
    "    >>> accuracy('', '')\n",
    "    100.0\n",
    "    \"\"\"\n",
    "    typed_words = split(typed)\n",
    "    source_words = split(source)\n",
    "    # BEGIN PROBLEM 3\n",
    "    len_type = len(typed_words)\n",
    "    len_source = len(source_words)\n",
    "    count_accuracy = 0\n",
    "    if len_type == 0 and len_source ==0:\n",
    "        return 100.0\n",
    "    elif len_type == 0 and len_source >0:\n",
    "        return 0.0\n",
    "    else:\n",
    "        for i in range(min(len_type, len_source)):\n",
    "            if typed_words[i] == source_words[i]:\n",
    "                count_accuracy += 1\n",
    "    return round(count_accuracy/len_type*100, 1)\n",
    "    \"*** YOUR CODE HERE ***\"\n",
    "    "
   ]
  },
  {
   "cell_type": "code",
   "execution_count": 6,
   "metadata": {},
   "outputs": [
    {
     "data": {
      "text/plain": [
       "25.0"
      ]
     },
     "execution_count": 6,
     "metadata": {},
     "output_type": "execute_result"
    }
   ],
   "source": [
    "accuracy(\"a b c d\", \"a d\")"
   ]
  },
  {
   "cell_type": "code",
   "execution_count": 7,
   "metadata": {},
   "outputs": [
    {
     "data": {
      "text/plain": [
       "0.0"
      ]
     },
     "execution_count": 7,
     "metadata": {},
     "output_type": "execute_result"
    }
   ],
   "source": [
    "accuracy(\"\", \"abc\")"
   ]
  },
  {
   "cell_type": "code",
   "execution_count": 8,
   "metadata": {},
   "outputs": [
    {
     "data": {
      "text/plain": [
       "4"
      ]
     },
     "execution_count": 8,
     "metadata": {},
     "output_type": "execute_result"
    }
   ],
   "source": [
    "max(2,3,4)"
   ]
  },
  {
   "cell_type": "code",
   "execution_count": 9,
   "metadata": {},
   "outputs": [],
   "source": [
    "def wpm(typed, elapsed):\n",
    "    \"\"\"Return the words-per-minute (WPM) of the TYPED string.\n",
    "\n",
    "    Arguments:\n",
    "        typed: an entered string\n",
    "        elapsed: an amount of time in seconds\n",
    "\n",
    "    >>> wpm('hello friend hello buddy hello', 15)\n",
    "    24.0\n",
    "    >>> wpm('0123456789',60)\n",
    "    2.0\n",
    "    \"\"\"\n",
    "    assert elapsed > 0, 'Elapsed time must be positive'\n",
    "    # BEGIN PROBLEM 4\n",
    "    \"*** YOUR CODE HERE ***\"\n",
    "    return round(len(typed)/5*(60/elapsed), 1)\n",
    "    # END PROBLEM 4"
   ]
  },
  {
   "cell_type": "code",
   "execution_count": 10,
   "metadata": {},
   "outputs": [
    {
     "data": {
      "text/plain": [
       "3.0"
      ]
     },
     "execution_count": 10,
     "metadata": {},
     "output_type": "execute_result"
    }
   ],
   "source": [
    "wpm(\"a b c\", 20)"
   ]
  },
  {
   "cell_type": "code",
   "execution_count": 11,
   "metadata": {},
   "outputs": [],
   "source": [
    "def autocorrect(typed_word, word_list, diff_function, limit):\n",
    "    \"\"\"Returns the element of WORD_LIST that has the smallest difference\n",
    "    from TYPED_WORD. If multiple words are tied for the smallest difference,\n",
    "    return the one that appears closest to the front of WORD_LIST. If the\n",
    "    difference is greater than LIMIT, instead return TYPED_WORD.\n",
    "\n",
    "    Arguments:\n",
    "        typed_word: a string representing a word that may contain typos\n",
    "        word_list: a list of strings representing source words\n",
    "        diff_function: a function quantifying the difference between two words\n",
    "        limit: a number\n",
    "\n",
    "    >>> ten_diff = lambda w1, w2, limit: 10 # Always returns 10\n",
    "    >>> autocorrect(\"hwllo\", [\"butter\", \"hello\", \"potato\"], ten_diff, 20)\n",
    "    'butter'\n",
    "    >>> first_diff = lambda w1, w2, limit: (1 if w1[0] != w2[0] else 0) # Checks for matching first char\n",
    "    >>> autocorrect(\"tosting\", [\"testing\", \"asking\", \"fasting\"], first_diff, 10)\n",
    "    'testing'\n",
    "    \"\"\"\n",
    "    # BEGIN PROBLEM 5\n",
    "    \"*** YOUR CODE HERE ***\"\n",
    "    if typed_word in word_list:\n",
    "        return typed_word\n",
    "    else:\n",
    "        dict_word = {word_list[i]: diff_function(typed_word, word_list[i], limit) for i  in range(len(word_list))}\n",
    "        min_key = min(dict_word, key=dict_word.get)\n",
    "        \n",
    "        print(dict_word)\n",
    "        if dict_word[min_key] < limit:\n",
    "            return min_key\n",
    "        else:\n",
    "            return typed_word\n",
    "    \n",
    "\n",
    "    # END PROBLEM 5"
   ]
  },
  {
   "cell_type": "code",
   "execution_count": 12,
   "metadata": {},
   "outputs": [
    {
     "name": "stdout",
     "output_type": "stream",
     "text": [
      "{'modernizer': 2, 'posticum': 1, 'undiscernible': 2, 'heterotrophic': 2, 'waller': 1, 'marque': 1, 'dephosphorization': 2}\n"
     ]
    },
    {
     "data": {
      "text/plain": [
       "'stilter'"
      ]
     },
     "execution_count": 12,
     "metadata": {},
     "output_type": "execute_result"
    }
   ],
   "source": [
    "autocorrect('stilter', ['modernizer', 'posticum', 'undiscernible', 'heterotrophic', 'waller', 'marque', 'dephosphorization'], lambda x, y, lim: min(lim + 1, abs(len(x) - len(y))), 1)"
   ]
  },
  {
   "cell_type": "code",
   "execution_count": 13,
   "metadata": {},
   "outputs": [],
   "source": [
    "diff_function = lambda x, y, lim: min(lim + 1, abs(len(x) - len(y)))"
   ]
  },
  {
   "cell_type": "code",
   "execution_count": 14,
   "metadata": {},
   "outputs": [],
   "source": [
    "def feline_fixes(typed, source, limit):\n",
    "    \"\"\"A diff function for autocorrect that determines how many letters\n",
    "    in TYPED need to be substituted to create SOURCE, then adds the difference in\n",
    "    their lengths and returns the result.\n",
    "\n",
    "    Arguments:\n",
    "        typed: a starting word\n",
    "        source: a string representing a desired goal word\n",
    "        limit: a number representing an upper bound on the number of chars that must change\n",
    "\n",
    "    >>> big_limit = 10\n",
    "    >>> feline_fixes(\"nice\", \"rice\", big_limit)    # Substitute: n -> r\n",
    "    1\n",
    "    >>> feline_fixes(\"range\", \"rungs\", big_limit)  # Substitute: a -> u, e -> s\n",
    "    2\n",
    "    >>> feline_fixes(\"pill\", \"pillage\", big_limit) # Don't substitute anything, length difference of 3.\n",
    "    3\n",
    "    >>> feline_fixes(\"roses\", \"arose\", big_limit)  # Substitute: r -> a, o -> r, s -> o, e -> s, s -> e\n",
    "    5\n",
    "    >>> feline_fixes(\"rose\", \"hello\", big_limit)   # Substitute: r->h, o->e, s->l, e->l, length difference of 1.\n",
    "    5\n",
    "    \"\"\"\n",
    "    # BEGIN PROBLEM 6\n",
    "    def count_change(typed, source):\n",
    "        if typed == source:\n",
    "            return 0\n",
    "        elif type[0] == source[0]:\n",
    "            return 0\n",
    "        else:\n",
    "            return 1 + count_change(typed[1:], source[1:])\n",
    "\n",
    "\n",
    "        return 0\n"
   ]
  },
  {
   "cell_type": "code",
   "execution_count": 15,
   "metadata": {},
   "outputs": [],
   "source": [
    "big_limit = 10\n",
    "feline_fixes(\"car\", \"car\", big_limit)"
   ]
  },
  {
   "cell_type": "code",
   "execution_count": 16,
   "metadata": {},
   "outputs": [],
   "source": [
    "word = \"\""
   ]
  },
  {
   "cell_type": "code",
   "execution_count": 17,
   "metadata": {},
   "outputs": [],
   "source": [
    "new = word[1:]"
   ]
  },
  {
   "cell_type": "code",
   "execution_count": 18,
   "metadata": {},
   "outputs": [
    {
     "data": {
      "text/plain": [
       "''"
      ]
     },
     "execution_count": 18,
     "metadata": {},
     "output_type": "execute_result"
    }
   ],
   "source": [
    "new"
   ]
  },
  {
   "cell_type": "code",
   "execution_count": null,
   "metadata": {},
   "outputs": [],
   "source": []
  },
  {
   "cell_type": "code",
   "execution_count": 19,
   "metadata": {},
   "outputs": [
    {
     "data": {
      "text/plain": [
       "0"
      ]
     },
     "execution_count": 19,
     "metadata": {},
     "output_type": "execute_result"
    }
   ],
   "source": [
    "len(word)"
   ]
  },
  {
   "cell_type": "code",
   "execution_count": 20,
   "metadata": {},
   "outputs": [],
   "source": [
    "def count_change(typed, source):\n",
    "    if typed == source:\n",
    "        return 0\n",
    "    elif typed == '' or source == '':\n",
    "        return abs(len(typed) - len(source))\n",
    "    else:\n",
    "        if typed[0] == source[0]:\n",
    "            return count_change(typed[1:], source[1:])\n",
    "        else:\n",
    "            return 1 + count_change(typed[1:], source[1:])\n"
   ]
  },
  {
   "cell_type": "code",
   "execution_count": 21,
   "metadata": {},
   "outputs": [
    {
     "data": {
      "text/plain": [
       "5"
      ]
     },
     "execution_count": 21,
     "metadata": {},
     "output_type": "execute_result"
    }
   ],
   "source": [
    "count_change(\"rd\", \"gddddd\")"
   ]
  },
  {
   "cell_type": "code",
   "execution_count": 22,
   "metadata": {},
   "outputs": [],
   "source": [
    "word = \"i\""
   ]
  },
  {
   "cell_type": "code",
   "execution_count": 23,
   "metadata": {},
   "outputs": [
    {
     "data": {
      "text/plain": [
       "''"
      ]
     },
     "execution_count": 23,
     "metadata": {},
     "output_type": "execute_result"
    }
   ],
   "source": [
    "a = word[1:]\n",
    "a"
   ]
  },
  {
   "cell_type": "code",
   "execution_count": 24,
   "metadata": {},
   "outputs": [],
   "source": [
    "def feline_fixes(typed, source, limit):\n",
    "    \"\"\"A diff function for autocorrect that determines how many letters\n",
    "    in TYPED need to be substituted to create SOURCE, then adds the difference in\n",
    "    their lengths and returns the result.\n",
    "\n",
    "    Arguments:\n",
    "        typed: a starting word\n",
    "        source: a string representing a desired goal word\n",
    "        limit: a number representing an upper bound on the number of chars that must change\n",
    "\n",
    "    >>> big_limit = 10\n",
    "    >>> feline_fixes(\"nice\", \"rice\", big_limit)    # Substitute: n -> r\n",
    "    1\n",
    "    >>> feline_fixes(\"range\", \"rungs\", big_limit)  # Substitute: a -> u, e -> s\n",
    "    2\n",
    "    >>> feline_fixes(\"pill\", \"pillage\", big_limit) # Don't substitute anything, length difference of 3.\n",
    "    3\n",
    "    >>> feline_fixes(\"roses\", \"arose\", big_limit)  # Substitute: r -> a, o -> r, s -> o, e -> s, s -> e\n",
    "    5\n",
    "    >>> feline_fixes(\"rose\", \"hello\", big_limit)   # Substitute: r->h, o->e, s->l, e->l, length difference of 1.\n",
    "    5\n",
    "    \"\"\"\n",
    "    # BEGIN PROBLEM 6\n",
    "    def count_change(typed, source):\n",
    "        if typed == source:\n",
    "            return 0\n",
    "        elif typed == '' or source == '':\n",
    "            return abs(len(typed) - len(source))\n",
    "        else:\n",
    "            if typed[0] == source[0]:\n",
    "                return count_change(typed[1:], source[1:])\n",
    "            else:\n",
    "                return 1 + count_change(typed[1:], source[1:])\n",
    "    return count_change(typed, source)"
   ]
  },
  {
   "cell_type": "code",
   "execution_count": 25,
   "metadata": {},
   "outputs": [
    {
     "data": {
      "text/plain": [
       "1"
      ]
     },
     "execution_count": 25,
     "metadata": {},
     "output_type": "execute_result"
    }
   ],
   "source": [
    "big_limit = 10\n",
    "feline_fixes(\"car\", \"cad\", big_limit)"
   ]
  },
  {
   "cell_type": "code",
   "execution_count": 121,
   "metadata": {},
   "outputs": [],
   "source": [
    "def minimum_mewtations(typed, source, limit):\n",
    "    \"\"\"A diff function that computes the edit distance from TYPED to SOURCE.\n",
    "    This function takes in a string TYPED, a string SOURCE, and a number LIMIT.\n",
    "    Arguments:\n",
    "        typed: a starting word\n",
    "        source: a string representing a desired goal word\n",
    "        limit: a number representing an upper bound on the number of edits\n",
    "    >>> big_limit = 10\n",
    "    >>> minimum_mewtations(\"cats\", \"scat\", big_limit)       # cats -> scats -> scat\n",
    "    2\n",
    "    >>> minimum_mewtations(\"purng\", \"purring\", big_limit)   # purng -> purrng -> purring\n",
    "    2\n",
    "    >>> minimum_mewtations(\"ckiteus\", \"kittens\", big_limit) # ckiteus -> kiteus -> kitteus -> kittens\n",
    "    3\n",
    "    \"\"\"\n",
    "    if typed == source or limit < 0: # Base cases should go here, you may add more base cases as needed.\n",
    "        # BEGIN\n",
    "        return 0\n",
    "        # END\n",
    "    # Recursive cases should go below here\n",
    "    if typed == '' or source == '': # Feel free to remove or add additional cases\n",
    "        # BEGIN\n",
    "        return abs(len(typed) - len(source))\n",
    "        # END\n",
    "    if typed in source:\n",
    "        return abs(len(typed) - len(source))\n",
    "    if source in typed:\n",
    "        return abs(len(typed) - len(source))\n",
    "    else:\n",
    "        add = lambda word, char, i : word[:i] + char + word[i:] # 在第i个字目前增加想要加的字母\n",
    "        remove = lambda word, i : word[:i]+word[i+1:] # 移除第i个字母\n",
    "        substitude = lambda word, char, i : word[:i] + char + word[i+1:] # 替换第i个字母\n",
    "        if len(typed) < len(source):\n",
    "            if typed[0] == source[0]:\n",
    "                return minimum_mewtations(typed[1:], source[1:], limit)\n",
    "            else:\n",
    "                if typed[0] == source[1]:\n",
    "                    return 1 + minimum_mewtations(typed[1:], source[2:], limit-1)\n",
    "                elif len(typed)>1 and typed[1] == source[1]:\n",
    "                    return 1 + minimum_mewtations(typed[1:], source[1:], limit-1)\n",
    "                else:                \n",
    "                    return 1 + minimum_mewtations(typed, source[1:], limit-1)\n",
    "        elif len(typed) == len(source):\n",
    "            if typed[0] == source[0]:\n",
    "                return minimum_mewtations(typed[1:], source[1:], limit)\n",
    "            else:\n",
    "                if len(typed)>1 and typed[0] == source[1] and typed[1] != source[1]:\n",
    "                    return 1 + minimum_mewtations(typed[1:], source[2:], limit-1)\n",
    "                elif len(typed)>1 and typed[1] == source[0] and typed[1] != source[1]:\n",
    "                    return 1 + minimum_mewtations(typed[2:], source[1:], limit-1)\n",
    "                else:\n",
    "                    return 1 + minimum_mewtations(substitude(typed,source[0],0)[1:], source[1:], limit-1)\n",
    "        #substitute = lambda x, y, i : x[i] = y[i]\n",
    "        else:\n",
    "            if typed[0] == source[0]:\n",
    "                return minimum_mewtations(typed[1:], source[1:], limit)\n",
    "            else:\n",
    "                if len(source)>1 and typed[1] == source[1]:\n",
    "                    return 1 + minimum_mewtations(typed[1:], source[1:], limit-1)\n",
    "                elif len(typed)>1 and typed[1] == source[0]:\n",
    "                    return 1 + minimum_mewtations(typed[2:], source[1:], limit-1)\n",
    "                else:\n",
    "                    return 1 + minimum_mewtations(typed[1:], source, limit-1)\n",
    "            \n",
    "                \n",
    "\n",
    "        # BEGIN\n",
    "        \"*** YOUR CODE HERE ***\"\n",
    "        # END\n"
   ]
  },
  {
   "cell_type": "code",
   "execution_count": 130,
   "metadata": {},
   "outputs": [],
   "source": [
    "def minimum_mewtations(typed, source, limit):\n",
    "    \"\"\"A diff function that computes the edit distance from TYPED to SOURCE.\n",
    "    This function takes in a string TYPED, a string SOURCE, and a number LIMIT.\n",
    "    Arguments:\n",
    "        typed: a starting word\n",
    "        source: a string representing a desired goal word\n",
    "        limit: a number representing an upper bound on the number of edits\n",
    "    >>> big_limit = 10\n",
    "    >>> minimum_mewtations(\"cats\", \"scat\", big_limit)       # cats -> scats -> scat\n",
    "    2\n",
    "    >>> minimum_mewtations(\"purng\", \"purring\", big_limit)   # purng -> purrng -> purring\n",
    "    2\n",
    "    >>> minimum_mewtations(\"ckiteus\", \"kittens\", big_limit) # ckiteus -> kiteus -> kitteus -> kittens\n",
    "    3\n",
    "    \"\"\"\n",
    "    if typed == source or limit < 0: # Base cases should go here, you may add more base cases as needed.\n",
    "        # BEGIN\n",
    "        return 0\n",
    "        # END\n",
    "    # Recursive cases should go below here\n",
    "    if typed == '' or source == '': # Feel free to remove or add additional cases\n",
    "        # BEGIN\n",
    "        return abs(len(typed) - len(source))\n",
    "        # END\n",
    "    if typed in source:\n",
    "        return abs(len(typed) - len(source))\n",
    "    if source in typed:\n",
    "        return abs(len(typed) - len(source))\n",
    "    else:\n",
    "        add = lambda word, char, i : word[:i] + char + word[i:] # 在第i个字目前增加想要加的字母\n",
    "        remove = lambda word, i : word[:i]+word[i+1:] # 移除第i个字母\n",
    "        substitude = lambda word, char, i : word[:i] + char + word[i+1:] # 替换第i个字母\n",
    "        if len(typed) < len(source):\n",
    "            if typed[0] == source[0]:\n",
    "                return minimum_mewtations(typed[1:], source[1:], limit)\n",
    "            else:\n",
    "                if typed[0] == source[1]:\n",
    "                    return 1 + minimum_mewtations(typed[1:], source[2:], limit-1)\n",
    "                elif len(typed)>1 and typed[1] == source[1]:\n",
    "                    return 1 + minimum_mewtations(typed[1:], source[1:], limit-1)\n",
    "                else:                \n",
    "                    return 1 + minimum_mewtations(typed, source[1:], limit-1)\n",
    "        elif len(typed) == len(source):\n",
    "            if typed[0] == source[0]:\n",
    "                return minimum_mewtations(typed[1:], source[1:], limit)\n",
    "            else:\n",
    "                if len(typed)>1 and typed[0] == source[1] and typed[1] != source[1]:\n",
    "                    return 1 + minimum_mewtations(typed[1:], source[2:], limit-1)\n",
    "                elif len(typed)>1 and typed[1] == source[0] and typed[1] != source[1]:\n",
    "                    return 1 + minimum_mewtations(typed[2:], source[1:], limit-1)\n",
    "                else:\n",
    "                    return 1 + minimum_mewtations(substitude(typed,source[0],0)[1:], source[1:], limit-1)\n",
    "        #substitute = lambda x, y, i : x[i] = y[i]\n",
    "        else:\n",
    "            if typed[0] == source[0]:\n",
    "                return minimum_mewtations(typed[1:], source[1:], limit)\n",
    "            else:\n",
    "                if len(source)>1 and typed[1] == source[1]:\n",
    "                    return 1 + minimum_mewtations(typed[1:], source[1:], limit-1)\n",
    "                elif len(typed)>1 and typed[1] == source[0]:\n",
    "                    return 1 + minimum_mewtations(typed[2:], source[1:], limit-1)\n",
    "                else:\n",
    "                    return 1 + minimum_mewtations(typed[1:], source, limit-1)\n",
    "            \n",
    "                \n",
    "\n",
    "        # BEGIN\n",
    "        \"*** YOUR CODE HERE ***\"\n",
    "        # END\n"
   ]
  },
  {
   "cell_type": "code",
   "execution_count": null,
   "metadata": {},
   "outputs": [],
   "source": [
    "                if len(source)>1 and typed[1] == source[1]:\n",
    "                    return 1 + minimum_mewtations(typed[1:], source[1:], limit-1)\n",
    "                elif len(typed)>1 and typed[1] == source[0]:\n",
    "                    return 1 + minimum_mewtations(typed[2:], source[1:], limit-1)\n",
    "                else:\n",
    "                    return min(1 + minimum_mewtations(typed[1:], source, limit-1),1 + minimum_mewtations(typed[1:], source[1:], limit-1), 1 + minimum_mewtations(typed[1:], source[1:], limit-1))\n",
    "            "
   ]
  },
  {
   "cell_type": "code",
   "execution_count": null,
   "metadata": {},
   "outputs": [],
   "source": [
    "        elif len(typed) == len(source):\n",
    "            if typed[0] == source[0]:\n",
    "                return minimum_mewtations(typed[1:], source[1:], limit)\n",
    "            else:\n",
    "                if len(typed)>1 and typed[0] == source[1] and typed[1] != source[1]:\n",
    "                    return 1 + minimum_mewtations(typed[1:], source[2:], limit-1)\n",
    "                elif len(typed)>1 and typed[1] == source[0] and typed[1] != source[1]:\n",
    "                    return 1 + minimum_mewtations(typed[2:], source[1:], limit-1)\n",
    "                else:"
   ]
  },
  {
   "cell_type": "code",
   "execution_count": 131,
   "metadata": {},
   "outputs": [
    {
     "data": {
      "text/plain": [
       "4"
      ]
     },
     "execution_count": 131,
     "metadata": {},
     "output_type": "execute_result"
    }
   ],
   "source": [
    "minimum_mewtations('sith', 'demit', 100)"
   ]
  },
  {
   "cell_type": "code",
   "execution_count": 118,
   "metadata": {},
   "outputs": [
    {
     "data": {
      "text/plain": [
       "2"
      ]
     },
     "execution_count": 118,
     "metadata": {},
     "output_type": "execute_result"
    }
   ],
   "source": [
    "minimum_mewtations(\"ng\", \"ting\", big_limit)"
   ]
  },
  {
   "cell_type": "code",
   "execution_count": 119,
   "metadata": {},
   "outputs": [
    {
     "data": {
      "text/plain": [
       "2"
      ]
     },
     "execution_count": 119,
     "metadata": {},
     "output_type": "execute_result"
    }
   ],
   "source": [
    "minimum_mewtations('k', 'key', 100)"
   ]
  },
  {
   "cell_type": "code",
   "execution_count": 112,
   "metadata": {},
   "outputs": [
    {
     "data": {
      "text/plain": [
       "4"
      ]
     },
     "execution_count": 112,
     "metadata": {},
     "output_type": "execute_result"
    }
   ],
   "source": [
    "minimum_mewtations('irk', 'hokey', 100)"
   ]
  },
  {
   "cell_type": "code",
   "execution_count": 102,
   "metadata": {},
   "outputs": [
    {
     "data": {
      "text/plain": [
       "1"
      ]
     },
     "execution_count": 102,
     "metadata": {},
     "output_type": "execute_result"
    }
   ],
   "source": [
    "minimum_mewtations('thee', 'thaee', 100)"
   ]
  },
  {
   "cell_type": "code",
   "execution_count": 99,
   "metadata": {},
   "outputs": [
    {
     "data": {
      "text/plain": [
       "3"
      ]
     },
     "execution_count": 99,
     "metadata": {},
     "output_type": "execute_result"
    }
   ],
   "source": [
    "minimum_mewtations('ysin', 'sbun', 100)"
   ]
  },
  {
   "cell_type": "code",
   "execution_count": 100,
   "metadata": {},
   "outputs": [
    {
     "data": {
      "text/plain": [
       "3"
      ]
     },
     "execution_count": 100,
     "metadata": {},
     "output_type": "execute_result"
    }
   ],
   "source": [
    "minimum_mewtations('lysin', 'lzsbun', 100)"
   ]
  },
  {
   "cell_type": "code",
   "execution_count": 94,
   "metadata": {},
   "outputs": [
    {
     "data": {
      "text/plain": [
       "2"
      ]
     },
     "execution_count": 94,
     "metadata": {},
     "output_type": "execute_result"
    }
   ],
   "source": [
    "minimum_mewtations('natal', 'nttyl', 100)"
   ]
  },
  {
   "cell_type": "code",
   "execution_count": 90,
   "metadata": {},
   "outputs": [
    {
     "data": {
      "text/plain": [
       "2"
      ]
     },
     "execution_count": 90,
     "metadata": {},
     "output_type": "execute_result"
    }
   ],
   "source": [
    "minimum_mewtations('nice', 'tie', 100)"
   ]
  },
  {
   "cell_type": "code",
   "execution_count": 86,
   "metadata": {},
   "outputs": [
    {
     "data": {
      "text/plain": [
       "2"
      ]
     },
     "execution_count": 86,
     "metadata": {},
     "output_type": "execute_result"
    }
   ],
   "source": [
    "minimum_mewtations(\"roses\", \"arose\", 10)"
   ]
  },
  {
   "cell_type": "code",
   "execution_count": 83,
   "metadata": {},
   "outputs": [
    {
     "data": {
      "text/plain": [
       "1"
      ]
     },
     "execution_count": 83,
     "metadata": {},
     "output_type": "execute_result"
    }
   ],
   "source": [
    "minimum_mewtations(\"wird\", \"wiry\", big_limit)"
   ]
  },
  {
   "cell_type": "code",
   "execution_count": null,
   "metadata": {},
   "outputs": [],
   "source": [
    "a = \"k\""
   ]
  },
  {
   "cell_type": "code",
   "execution_count": null,
   "metadata": {},
   "outputs": [],
   "source": [
    "b = \"hokey\""
   ]
  },
  {
   "cell_type": "code",
   "execution_count": 117,
   "metadata": {},
   "outputs": [
    {
     "data": {
      "text/plain": [
       "True"
      ]
     },
     "execution_count": 117,
     "metadata": {},
     "output_type": "execute_result"
    }
   ],
   "source": [
    "a in b"
   ]
  },
  {
   "cell_type": "code",
   "execution_count": 186,
   "metadata": {},
   "outputs": [],
   "source": [
    "def report_progress(typed, source, user_id, upload):\n",
    "    \"\"\"Upload a report of your id and progress so far to the multiplayer server.\n",
    "    Returns the progress so far.\n",
    "\n",
    "    Arguments:\n",
    "        typed: a list of the words typed so far\n",
    "        source: a list of the words in the typing source\n",
    "        user_id: a number representing the id of the current user\n",
    "        upload: a function used to upload progress to the multiplayer server\n",
    "\n",
    "    >>> print_progress = lambda d: print('ID:', d['id'], 'Progress:', d['progress'])\n",
    "    >>> # The above function displays progress in the format ID: __, Progress: __\n",
    "    >>> print_progress({'id': 1, 'progress': 0.6})\n",
    "    ID: 1 Progress: 0.6\n",
    "    >>> typed = ['how', 'are', 'you']\n",
    "    >>> source = ['how', 'are', 'you', 'doing', 'today']\n",
    "    >>> report_progress(typed, source, 2, print_progress)\n",
    "    ID: 2 Progress: 0.6\n",
    "    0.6\n",
    "    >>> report_progress(['how', 'aree'], source, 3, print_progress)\n",
    "    ID: 3 Progress: 0.2\n",
    "    0.2\n",
    "    \"\"\"\n",
    "    # BEGIN PROBLEM 8\n",
    "    \"*** YOUR CODE HERE ***\"\n",
    "    count = 0\n",
    "    print(typed)\n",
    "    print(len(typed))\n",
    "    typed[0]\n",
    "    for i in range(len(typed)):\n",
    "        if typed[i] == source[i]:\n",
    "            count += 1\n",
    "        else:\n",
    "            return count\n",
    "\n",
    "    progress = round(count/len(source),1)\n",
    "    d = {'id':user_id, 'progress':progress}\n",
    "    upload(d)\n",
    "    return progress"
   ]
  },
  {
   "cell_type": "code",
   "execution_count": 182,
   "metadata": {},
   "outputs": [],
   "source": [
    "print_progress = lambda d: print('ID:', d['id'], 'Progress:', d['progress'])"
   ]
  },
  {
   "cell_type": "code",
   "execution_count": 183,
   "metadata": {},
   "outputs": [],
   "source": [
    "source = ['I', 'have', 'begun', 'to', 'type']"
   ]
  },
  {
   "cell_type": "code",
   "execution_count": 187,
   "metadata": {},
   "outputs": [
    {
     "name": "stdout",
     "output_type": "stream",
     "text": [
      "['I', 'begun']\n",
      "2\n"
     ]
    },
    {
     "data": {
      "text/plain": [
       "1"
      ]
     },
     "execution_count": 187,
     "metadata": {},
     "output_type": "execute_result"
    }
   ],
   "source": [
    "report_progress(['I', 'begun'], source, 3, print_progress)"
   ]
  },
  {
   "cell_type": "code",
   "execution_count": 188,
   "metadata": {},
   "outputs": [],
   "source": [
    "p = [[75, 81, 84, 90, 92], [19, 29, 35, 36, 38]]"
   ]
  },
  {
   "cell_type": "code",
   "execution_count": 190,
   "metadata": {},
   "outputs": [
    {
     "data": {
      "text/plain": [
       "5"
      ]
     },
     "execution_count": 190,
     "metadata": {},
     "output_type": "execute_result"
    }
   ],
   "source": [
    "len(p[1])"
   ]
  },
  {
   "cell_type": "code",
   "execution_count": 189,
   "metadata": {},
   "outputs": [
    {
     "data": {
      "text/plain": [
       "2"
      ]
     },
     "execution_count": 189,
     "metadata": {},
     "output_type": "execute_result"
    }
   ],
   "source": [
    "a = []\n",
    "for i in range(len(p)):\n",
    "    for j in len(p[i]):\n",
    "        \n"
   ]
  },
  {
   "cell_type": "code",
   "execution_count": 196,
   "metadata": {},
   "outputs": [],
   "source": [
    "def time_per_word(words, timestamps_per_player):\n",
    "    \"\"\"Given timing data, return a match data abstraction, which contains a\n",
    "    list of words and the amount of time each player took to type each word.\n",
    "\n",
    "    Arguments:\n",
    "        words: a list of words, in the order they are typed.\n",
    "        timestamps_per_player: A list of lists of timestamps including the time\n",
    "                          the player started typing, followed by the time\n",
    "                          the player finished typing each word.\n",
    "\n",
    "    >>> p = [[75, 81, 84, 90, 92], [19, 29, 35, 36, 38]]\n",
    "    >>> match = time_per_word(['collar', 'plush', 'blush', 'repute'], p)\n",
    "    >>> get_all_words(match)\n",
    "    ['collar', 'plush', 'blush', 'repute']\n",
    "    >>> get_all_times(match)\n",
    "    [[6, 3, 6, 2], [10, 6, 1, 2]]\n",
    "    \"\"\"\n",
    "    # BEGIN PROBLEM 9\n",
    "    \"*** YOUR CODE HERE ***\"\n",
    "    time_perword = [[sublist[i + 1]-sublist[i] for i in range(len(sublist) - 1)] for sublist in timestamps_per_player]\n",
    "    match = {'words':words, 'times':time_perword}\n",
    "    return match"
   ]
  },
  {
   "cell_type": "code",
   "execution_count": 194,
   "metadata": {},
   "outputs": [],
   "source": [
    "def get_all_words(match):\n",
    "    \"\"\"A selector function for all the words in the match\"\"\"\n",
    "    return match[\"words\"]"
   ]
  },
  {
   "cell_type": "code",
   "execution_count": 195,
   "metadata": {},
   "outputs": [],
   "source": [
    "def get_word(match, word_index):\n",
    "    \"\"\"A utility function that gets the word with index word_index\"\"\"\n",
    "    assert 0 <= word_index < len(get_all_words(match)), \"word_index out of range of words\"\n",
    "    return get_all_words(match)[word_index]"
   ]
  },
  {
   "cell_type": "code",
   "execution_count": 200,
   "metadata": {},
   "outputs": [],
   "source": [
    "get_word = lambda u, v: u.a[v]"
   ]
  },
  {
   "cell_type": "code",
   "execution_count": 215,
   "metadata": {},
   "outputs": [
    {
     "name": "stdout",
     "output_type": "stream",
     "text": [
      "(1, 0) 1\n",
      "(4, 4) 4\n",
      "(6, 6) 6\n",
      "(7, 9) 9\n"
     ]
    }
   ],
   "source": [
    "p = [[1, 4, 6, 7], [0, 4, 6, 9]]\n",
    "a = zip(*p)\n",
    "for elements in a:\n",
    "    max_value = max(elements)\n",
    "    print(elements, max_value)"
   ]
  },
  {
   "cell_type": "code",
   "execution_count": 213,
   "metadata": {},
   "outputs": [],
   "source": [
    "for elements in a:\n",
    "    max_value = max(elements)"
   ]
  },
  {
   "cell_type": "code",
   "execution_count": 214,
   "metadata": {},
   "outputs": [
    {
     "data": {
      "text/plain": [
       "9"
      ]
     },
     "execution_count": 214,
     "metadata": {},
     "output_type": "execute_result"
    }
   ],
   "source": [
    "max_value"
   ]
  },
  {
   "cell_type": "code",
   "execution_count": 211,
   "metadata": {},
   "outputs": [
    {
     "name": "stdout",
     "output_type": "stream",
     "text": [
      "<zip object at 0x119b17780>\n"
     ]
    }
   ],
   "source": [
    "print(a)"
   ]
  },
  {
   "cell_type": "code",
   "execution_count": null,
   "metadata": {},
   "outputs": [],
   "source": []
  }
 ],
 "metadata": {
  "kernelspec": {
   "display_name": "base",
   "language": "python",
   "name": "python3"
  },
  "language_info": {
   "codemirror_mode": {
    "name": "ipython",
    "version": 3
   },
   "file_extension": ".py",
   "mimetype": "text/x-python",
   "name": "python",
   "nbconvert_exporter": "python",
   "pygments_lexer": "ipython3",
   "version": "3.11.7"
  }
 },
 "nbformat": 4,
 "nbformat_minor": 2
}
