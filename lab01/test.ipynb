{
 "cells": [
  {
   "cell_type": "code",
   "execution_count": 2,
   "metadata": {},
   "outputs": [],
   "source": [
    "def how_big(x):\n",
    "    if x > 10:\n",
    "        print('huge')\n",
    "    elif x > 5:\n",
    "        return 'big'\n",
    "    if x > 0:\n",
    "        print('positive')\n",
    "    else:\n",
    "        print(0)"
   ]
  },
  {
   "cell_type": "code",
   "execution_count": 3,
   "metadata": {},
   "outputs": [
    {
     "name": "stdout",
     "output_type": "stream",
     "text": [
      "huge\n",
      "positive\n"
     ]
    }
   ],
   "source": [
    "how_big(12)\n"
   ]
  },
  {
   "cell_type": "code",
   "execution_count": 4,
   "metadata": {},
   "outputs": [
    {
     "name": "stdout",
     "output_type": "stream",
     "text": [
      "huge\n",
      "positive\n",
      "None\n"
     ]
    }
   ],
   "source": [
    "print(how_big(12))"
   ]
  },
  {
   "cell_type": "code",
   "execution_count": 5,
   "metadata": {},
   "outputs": [
    {
     "name": "stdout",
     "output_type": "stream",
     "text": [
      "positive\n",
      "0\n",
      "None None\n"
     ]
    }
   ],
   "source": [
    "print(how_big(1), how_big(0))"
   ]
  },
  {
   "cell_type": "code",
   "execution_count": 9,
   "metadata": {},
   "outputs": [],
   "source": [
    "def divisible_by_k(n, k):\n",
    "    \"\"\"\n",
    "    >>> a = divisible_by_k(10, 2)  # 2, 4, 6, 8, and 10 are divisible by 2\n",
    "    2\n",
    "    4\n",
    "    6\n",
    "    8\n",
    "    10\n",
    "    >>> a\n",
    "    5\n",
    "    >>> b = divisible_by_k(3, 1)  # 1, 2, and 3 are divisible by 1\n",
    "    1\n",
    "    2\n",
    "    3\n",
    "    >>> b\n",
    "    3\n",
    "    >>> c = divisible_by_k(6, 7)  # There are no integers up to 6 divisible by 7\n",
    "    >>> c\n",
    "    0\n",
    "    \"\"\"\n",
    "    \"*** YOUR CODE HERE ***\"\n",
    "    if n < k:\n",
    "        return 0\n",
    "    else:\n",
    "        for i in range(1, n+1):\n",
    "            if i % k == 0:\n",
    "                print(i)"
   ]
  },
  {
   "cell_type": "code",
   "execution_count": 11,
   "metadata": {},
   "outputs": [
    {
     "name": "stdout",
     "output_type": "stream",
     "text": [
      "2\n",
      "4\n",
      "6\n",
      "8\n",
      "10\n"
     ]
    }
   ],
   "source": [
    "divisible_by_k(10, 2)"
   ]
  }
 ],
 "metadata": {
  "kernelspec": {
   "display_name": "py11",
   "language": "python",
   "name": "python3"
  },
  "language_info": {
   "codemirror_mode": {
    "name": "ipython",
    "version": 3
   },
   "file_extension": ".py",
   "mimetype": "text/x-python",
   "name": "python",
   "nbconvert_exporter": "python",
   "pygments_lexer": "ipython3",
   "version": "3.11.9"
  }
 },
 "nbformat": 4,
 "nbformat_minor": 2
}
