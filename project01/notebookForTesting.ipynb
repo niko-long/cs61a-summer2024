{
 "cells": [
  {
   "cell_type": "code",
   "execution_count": 1,
   "metadata": {},
   "outputs": [],
   "source": [
    "def always_roll(n):\n",
    "    assert n >= 0 and n <= 10\n",
    "\n",
    "    # BEGIN PROBLEM 6\n",
    "    \"*** YOUR CODE HERE ***\"\n",
    "    def strategy(i, j):\n",
    "        return n\n",
    "    return strategy\n",
    "    # END PROBLEM 6"
   ]
  },
  {
   "cell_type": "code",
   "execution_count": 11,
   "metadata": {},
   "outputs": [],
   "source": [
    "strategy = always_roll(3)"
   ]
  },
  {
   "cell_type": "code",
   "execution_count": 5,
   "metadata": {},
   "outputs": [
    {
     "data": {
      "text/plain": [
       "3"
      ]
     },
     "execution_count": 5,
     "metadata": {},
     "output_type": "execute_result"
    }
   ],
   "source": [
    "strategy(2,3)"
   ]
  },
  {
   "cell_type": "code",
   "execution_count": null,
   "metadata": {},
   "outputs": [],
   "source": [
    "def catch_up(score, opponent_score):\n",
    "    \"\"\"A player strategy that always rolls 5 dice unless the opponent\n",
    "    has a higher score, in which case 6 dice are rolled.\n",
    "\n",
    "    >>> catch_up(9, 4)\n",
    "    5\n",
    "    >>> strategy(17, 18)\n",
    "    6\n",
    "    \"\"\"\n",
    "    if score < opponent_score:\n",
    "        return 6  # Roll one more to catch up\n",
    "    else:\n",
    "        return 5\n",
    "    "
   ]
  },
  {
   "cell_type": "code",
   "execution_count": 13,
   "metadata": {},
   "outputs": [],
   "source": [
    "def catch_up(score, opponent_score):\n",
    "    \"\"\"A player strategy that always rolls 5 dice unless the opponent\n",
    "    has a higher score, in which case 6 dice are rolled.\n",
    "\n",
    "    >>> catch_up(9, 4)\n",
    "    5\n",
    "    >>> strategy(17, 18)\n",
    "    6\n",
    "    \"\"\"\n",
    "    if score < opponent_score:\n",
    "        return 6  # Roll one more to catch up\n",
    "    else:\n",
    "        return 5"
   ]
  },
  {
   "cell_type": "code",
   "execution_count": 36,
   "metadata": {},
   "outputs": [],
   "source": [
    "GOAL=200"
   ]
  },
  {
   "cell_type": "code",
   "execution_count": 38,
   "metadata": {},
   "outputs": [],
   "source": [
    "def is_always_roll(strategy, goal=GOAL):\n",
    "    \"\"\"Return whether STRATEGY always chooses the same number of dice to roll\n",
    "    given a game that goes to GOAL points.\n",
    "\n",
    "    >>> is_always_roll(always_roll_5)\n",
    "    True\n",
    "    >>> is_always_roll(always_roll(3))\n",
    "    True\n",
    "    >>> is_always_roll(catch_up)\n",
    "    False\n",
    "    \"\"\"\n",
    "    # BEGIN PROBLEM 7\n",
    "    \"*** YOUR CODE HERE ***\"\n",
    "    n = 0\n",
    "    for i in range (0, GOAL, 1):\n",
    "        for j in range (0, GOAL, 1):\n",
    "            if strategy(i,j)==strategy(0,0):\n",
    "                n += 1\n",
    "    print(\"n\", n)\n",
    "    print(GOAL * GOAL)\n",
    "    if n == GOAL * GOAL:\n",
    "        \n",
    "        return True\n",
    "    else:\n",
    "        return False"
   ]
  },
  {
   "cell_type": "code",
   "execution_count": 30,
   "metadata": {},
   "outputs": [],
   "source": [
    "def s(x, y):\n",
    "    if x == 150 and y == 125:\n",
    "        return 0\n",
    "    else:\n",
    "        return 1"
   ]
  },
  {
   "cell_type": "code",
   "execution_count": 39,
   "metadata": {},
   "outputs": [
    {
     "data": {
      "text/plain": [
       "0"
      ]
     },
     "execution_count": 39,
     "metadata": {},
     "output_type": "execute_result"
    }
   ],
   "source": [
    "s(150,125)"
   ]
  },
  {
   "cell_type": "code",
   "execution_count": 40,
   "metadata": {},
   "outputs": [
    {
     "name": "stdout",
     "output_type": "stream",
     "text": [
      "n 39999\n",
      "40000\n"
     ]
    },
    {
     "data": {
      "text/plain": [
       "False"
      ]
     },
     "execution_count": 40,
     "metadata": {},
     "output_type": "execute_result"
    }
   ],
   "source": [
    "is_always_roll(s, 200)"
   ]
  },
  {
   "cell_type": "code",
   "execution_count": 29,
   "metadata": {},
   "outputs": [
    {
     "name": "stdout",
     "output_type": "stream",
     "text": [
      "n 10000\n",
      "10000\n"
     ]
    },
    {
     "data": {
      "text/plain": [
       "True"
      ]
     },
     "execution_count": 29,
     "metadata": {},
     "output_type": "execute_result"
    }
   ],
   "source": [
    "is_always_roll(always_roll(3))"
   ]
  },
  {
   "cell_type": "code",
   "execution_count": 16,
   "metadata": {},
   "outputs": [],
   "source": [
    "def always_roll_5(score, opponent_score):\n",
    "    \"\"\"A strategy of always rolling 5 dice, regardless of the player's score or\n",
    "    the opponent's score.\n",
    "    \"\"\"\n",
    "    return 5"
   ]
  },
  {
   "cell_type": "code",
   "execution_count": 17,
   "metadata": {},
   "outputs": [
    {
     "data": {
      "text/plain": [
       "True"
      ]
     },
     "execution_count": 17,
     "metadata": {},
     "output_type": "execute_result"
    }
   ],
   "source": [
    "is_always_roll(always_roll_5)"
   ]
  },
  {
   "cell_type": "code",
   "execution_count": null,
   "metadata": {},
   "outputs": [],
   "source": []
  },
  {
   "cell_type": "code",
   "execution_count": 1,
   "metadata": {},
   "outputs": [],
   "source": [
    "from random import randint\n",
    "def make_fair_dice(sides):\n",
    "    \"\"\"Return a die that returns 1 to SIDES with equal chance.\"\"\"\n",
    "    assert type(sides) == int and sides >= 1, 'Illegal value for sides'\n",
    "    def dice():\n",
    "        return randint(1,sides)\n",
    "    return dice\n"
   ]
  },
  {
   "cell_type": "code",
   "execution_count": 3,
   "metadata": {},
   "outputs": [
    {
     "data": {
      "text/plain": [
       "<function __main__.make_fair_dice.<locals>.dice()>"
      ]
     },
     "execution_count": 3,
     "metadata": {},
     "output_type": "execute_result"
    }
   ],
   "source": [
    "six_sided = make_fair_dice(6)\n",
    "six_sided"
   ]
  },
  {
   "cell_type": "code",
   "execution_count": 4,
   "metadata": {},
   "outputs": [],
   "source": [
    "def roll_dice(num_rolls, dice=six_sided):\n",
    "    \"\"\"Simulate rolling the DICE exactly NUM_ROLLS > 0 times. Return the sum of\n",
    "    the outcomes unless any of the outcomes is 1. In that case, return 1.\n",
    "\n",
    "    num_rolls:  The number of dice rolls that will be made.\n",
    "    dice:       A function that simulates a single dice roll outcome. Defaults to the six sided dice.\n",
    "    \"\"\"\n",
    "    # These assert statements ensure that num_rolls is a positive integer.\n",
    "    assert type(num_rolls) == int, 'num_rolls must be an integer.'\n",
    "    assert num_rolls > 0, 'Must roll at least once.'\n",
    "    # BEGIN PROBLEM 1\n",
    "    \"*** YOUR CODE HERE ***\"\n",
    "    n = []\n",
    "    m = 0\n",
    "    real_dice = dice\n",
    "    for i in range(0, num_rolls, 1):\n",
    "        k = real_dice()\n",
    "        n.append(k)\n",
    "        if k == 1:\n",
    "            m += 1\n",
    "    if m > 0:\n",
    "        return 1\n",
    "    else:\n",
    "        return sum(n)\n",
    "    # END PROBLEM 1"
   ]
  },
  {
   "cell_type": "code",
   "execution_count": 94,
   "metadata": {},
   "outputs": [],
   "source": [
    "def make_test_dice(*outcomes):\n",
    "    \"\"\"Return a die that cycles deterministically through OUTCOMES.\n",
    "\n",
    "    >>> dice = make_test_dice(1, 2, 3)\n",
    "    >>> dice()\n",
    "    1\n",
    "    >>> dice()\n",
    "    2\n",
    "    >>> dice()\n",
    "    3\n",
    "    >>> dice()\n",
    "    1\n",
    "    >>> dice()\n",
    "    2\n",
    "\n",
    "    This function uses Python syntax/techniques not yet covered in this course.\n",
    "    The best way to understand it is by reading the documentation and examples.\n",
    "    \"\"\"\n",
    "    assert len(outcomes) > 0, 'You must supply outcomes to make_test_dice'\n",
    "    for o in outcomes:\n",
    "        assert type(o) == int and o >= 1, 'Outcome is not a positive integer'\n",
    "    index = len(outcomes) - 1\n",
    "    def dice():\n",
    "        nonlocal index\n",
    "        index = (index + 1) % len(outcomes)\n",
    "        return outcomes[index]\n",
    "    return dice"
   ]
  },
  {
   "cell_type": "code",
   "execution_count": 3,
   "metadata": {},
   "outputs": [
    {
     "data": {
      "text/plain": [
       "5"
      ]
     },
     "execution_count": 3,
     "metadata": {},
     "output_type": "execute_result"
    }
   ],
   "source": [
    "a = 115%10\n",
    "a"
   ]
  },
  {
   "cell_type": "code",
   "execution_count": 11,
   "metadata": {},
   "outputs": [
    {
     "data": {
      "text/plain": [
       "0"
      ]
     },
     "execution_count": 11,
     "metadata": {},
     "output_type": "execute_result"
    }
   ],
   "source": [
    "m = (9//10)%10\n",
    "m"
   ]
  },
  {
   "cell_type": "code",
   "execution_count": 12,
   "metadata": {},
   "outputs": [],
   "source": [
    "\n",
    "def boar_brawl(player_score, opponent_score):\n",
    "    \"\"\"Return the points scored by rolling 0 dice according to Boar Brawl.\n",
    "\n",
    "    player_score:     The total score of the current player.\n",
    "    opponent_score:   The total score of the other player.\n",
    "\n",
    "    \"\"\"\n",
    "    # BEGIN PROBLEM 2\n",
    "    \"*** YOUR CODE HERE ***\"\n",
    "    i = player_score % 10\n",
    "    j = (opponent_score // 10) % 10\n",
    "    if i == j:\n",
    "        return 1\n",
    "    else:\n",
    "\n",
    "        return 3 * abs(i - j)"
   ]
  },
  {
   "cell_type": "code",
   "execution_count": 14,
   "metadata": {},
   "outputs": [
    {
     "data": {
      "text/plain": [
       "3"
      ]
     },
     "execution_count": 14,
     "metadata": {},
     "output_type": "execute_result"
    }
   ],
   "source": [
    "boar_brawl(12, 31)"
   ]
  },
  {
   "cell_type": "code",
   "execution_count": 98,
   "metadata": {},
   "outputs": [
    {
     "data": {
      "text/plain": [
       "1"
      ]
     },
     "execution_count": 98,
     "metadata": {},
     "output_type": "execute_result"
    }
   ],
   "source": [
    "roll_dice(3, make_test_dice(4, 6, 1))"
   ]
  },
  {
   "cell_type": "code",
   "execution_count": 96,
   "metadata": {},
   "outputs": [
    {
     "data": {
      "text/plain": [
       "1"
      ]
     },
     "execution_count": 96,
     "metadata": {},
     "output_type": "execute_result"
    }
   ],
   "source": [
    "roll_dice()"
   ]
  },
  {
   "cell_type": "code",
   "execution_count": 16,
   "metadata": {},
   "outputs": [],
   "source": [
    "\"\"\"Functions that simulate dice rolls.\n",
    "\n",
    "A dice function takes no arguments and returns a number from 1 to n\n",
    "(inclusive), where n is the number of sides on the dice.\n",
    "\n",
    "Fair dice produce each possible outcome with equal probability.\n",
    "Two fair dice are already defined, four_sided and six_sided,\n",
    "and are generated by the make_fair_dice function.\n",
    "\n",
    "Test dice are deterministic: they always cycles through a fixed\n",
    "sequence of values that are passed as arguments.\n",
    "Test dice are generated by the make_test_dice function.\n",
    "\"\"\"\n",
    "\n",
    "from random import randint\n",
    "\n",
    "def make_fair_dice(sides):\n",
    "    \"\"\"Return a die that returns 1 to SIDES with equal chance.\"\"\"\n",
    "    assert type(sides) == int and sides >= 1, 'Illegal value for sides'\n",
    "    def dice():\n",
    "        return randint(1,sides)\n",
    "    return dice\n",
    "\n",
    "four_sided = make_fair_dice(4)\n",
    "six_sided = make_fair_dice(6)\n",
    "\n",
    "def make_test_dice(*outcomes):\n",
    "    \"\"\"Return a die that cycles deterministically through OUTCOMES.\n",
    "\n",
    "    >>> dice = make_test_dice(1, 2, 3)\n",
    "    >>> dice()\n",
    "    1\n",
    "    >>> dice()\n",
    "    2\n",
    "    >>> dice()\n",
    "    3\n",
    "    >>> dice()\n",
    "    1\n",
    "    >>> dice()\n",
    "    2\n",
    "\n",
    "    This function uses Python syntax/techniques not yet covered in this course.\n",
    "    The best way to understand it is by reading the documentation and examples.\n",
    "    \"\"\"\n",
    "    assert len(outcomes) > 0, 'You must supply outcomes to make_test_dice'\n",
    "    for o in outcomes:\n",
    "        assert type(o) == int and o >= 1, 'Outcome is not a positive integer'\n",
    "    index = len(outcomes) - 1\n",
    "    def dice():\n",
    "        nonlocal index\n",
    "        index = (index + 1) % len(outcomes)\n",
    "        return outcomes[index]\n",
    "    return dice"
   ]
  },
  {
   "cell_type": "code",
   "execution_count": 17,
   "metadata": {},
   "outputs": [],
   "source": [
    "def roll_dice(num_rolls, dice=six_sided):\n",
    "    \"\"\"Simulate rolling the DICE exactly NUM_ROLLS > 0 times. Return the sum of\n",
    "    the outcomes unless any of the outcomes is 1. In that case, return 1.\n",
    "\n",
    "    num_rolls:  The number of dice rolls that will be made.\n",
    "    dice:       A function that simulates a single dice roll outcome. Defaults to the six sided dice.\n",
    "    \"\"\"\n",
    "    # These assert statements ensure that num_rolls is a positive integer.\n",
    "    assert type(num_rolls) == int, 'num_rolls must be an integer.'\n",
    "    assert num_rolls > 0, 'Must roll at least once.'\n",
    "    # BEGIN PROBLEM 1\n",
    "    \"*** YOUR CODE HERE ***\"\n",
    "    n = []\n",
    "    m = 0\n",
    "    real_dice = dice\n",
    "    for i in range(0, num_rolls, 1):\n",
    "        k = real_dice()\n",
    "        n.append(k)\n",
    "        if k == 1:\n",
    "            m += 1\n",
    "    if m > 0:\n",
    "        return 1\n",
    "    else:\n",
    "        return sum(n)\n",
    "    # END PROBLEM 1\n",
    "\n",
    "\n",
    "def boar_brawl(player_score, opponent_score):\n",
    "    \"\"\"Return the points scored by rolling 0 dice according to Boar Brawl.\n",
    "\n",
    "    player_score:     The total score of the current player.\n",
    "    opponent_score:   The total score of the other player.\n",
    "\n",
    "    \"\"\"\n",
    "    # BEGIN PROBLEM 2\n",
    "    \"*** YOUR CODE HERE ***\"\n",
    "    i = player_score % 10\n",
    "    j = (opponent_score // 10) % 10\n",
    "    if i == j:\n",
    "        return 1\n",
    "    else:\n",
    "        return 3 * abs(i - j)\n",
    "\n",
    "    # END PROBLEM 2\n",
    "\n",
    "\n",
    "def take_turn(num_rolls, player_score, opponent_score, dice=six_sided):\n",
    "    \"\"\"Return the points scored on a turn rolling NUM_ROLLS dice when the\n",
    "    player has PLAYER_SCORE points and the opponent has OPPONENT_SCORE points.\n",
    "\n",
    "    num_rolls:       The number of dice rolls that will be made.\n",
    "    player_score:    The total score of the current player.\n",
    "    opponent_score:  The total score of the other player.\n",
    "    dice:            A function that simulates a single dice roll outcome.\n",
    "    \"\"\"\n",
    "    # Leave these assert statements here; they help check for errors.\n",
    "    assert type(num_rolls) == int, 'num_rolls must be an integer.'\n",
    "    assert num_rolls >= 0, 'Cannot roll a negative number of dice in take_turn.'\n",
    "    assert num_rolls <= 10, 'Cannot roll more than 10 dice.'\n",
    "    # BEGIN PROBLEM 3\n",
    "    \"*** YOUR CODE HERE ***\"\n",
    "    if num_rolls == 0:\n",
    "        return boar_brawl(player_score, opponent_score)\n",
    "    else:\n",
    "        return roll_dice(num_rolls, dice)"
   ]
  },
  {
   "cell_type": "code",
   "execution_count": 18,
   "metadata": {},
   "outputs": [
    {
     "data": {
      "text/plain": [
       "9"
      ]
     },
     "execution_count": 18,
     "metadata": {},
     "output_type": "execute_result"
    }
   ],
   "source": [
    "take_turn(2, 7, 27, make_test_dice(4, 5, 1))"
   ]
  },
  {
   "cell_type": "code",
   "execution_count": 28,
   "metadata": {},
   "outputs": [],
   "source": [
    "def num_factors(n):\n",
    "    \"\"\"Return the number of factors of N, including 1 and N itself.\"\"\"\n",
    "    # BEGIN PROBLEM 4\n",
    "    \"*** YOUR CODE HERE ***\"\n",
    "    m = 1\n",
    "    for i in range(1, n , 1):\n",
    "        print (n % i)\n",
    "        if n % i == 0:\n",
    "            m += 1\n",
    "    return m\n",
    "    # END PROBLEM 4"
   ]
  },
  {
   "cell_type": "code",
   "execution_count": 32,
   "metadata": {},
   "outputs": [
    {
     "name": "stdout",
     "output_type": "stream",
     "text": [
      "0\n"
     ]
    },
    {
     "data": {
      "text/plain": [
       "2"
      ]
     },
     "execution_count": 32,
     "metadata": {},
     "output_type": "execute_result"
    }
   ],
   "source": [
    "num_factors(2)"
   ]
  },
  {
   "cell_type": "code",
   "execution_count": 33,
   "metadata": {},
   "outputs": [],
   "source": [
    "def num_factors(n):\n",
    "    \"\"\"Return the number of factors of N, including 1 and N itself.\"\"\"\n",
    "    # BEGIN PROBLEM 4\n",
    "    \"*** YOUR CODE HERE ***\"\n",
    "    m = 1\n",
    "    for i in range(1, n , 1):\n",
    "        if n % i == 0:\n",
    "            m += 1\n",
    "    return m\n",
    "    # END PROBLEM 4\n",
    "\n",
    "def sus_points(score):\n",
    "    \"\"\"Return the new score of a player taking into account the Sus Fuss rule.\"\"\"\n",
    "    # BEGIN PROBLEM 4\n",
    "    \"*** YOUR CODE HERE ***\"\n",
    "    i = 1\n",
    "    if num_factors(score) == 3 or 4:\n",
    "        while num_factors(score + i)!=2:\n",
    "            i += 1\n",
    "        else:\n",
    "            return score + i\n",
    "    else:\n",
    "        return score\n",
    "    # END PROBLEM 4"
   ]
  },
  {
   "cell_type": "code",
   "execution_count": 34,
   "metadata": {},
   "outputs": [
    {
     "data": {
      "text/plain": [
       "23"
      ]
     },
     "execution_count": 34,
     "metadata": {},
     "output_type": "execute_result"
    }
   ],
   "source": [
    "sus_points(21)"
   ]
  },
  {
   "cell_type": "code",
   "execution_count": null,
   "metadata": {},
   "outputs": [],
   "source": []
  },
  {
   "cell_type": "code",
   "execution_count": 37,
   "metadata": {},
   "outputs": [
    {
     "data": {
      "text/plain": [
       "2"
      ]
     },
     "execution_count": 37,
     "metadata": {},
     "output_type": "execute_result"
    }
   ],
   "source": [
    "num_factors(97)"
   ]
  },
  {
   "cell_type": "code",
   "execution_count": 38,
   "metadata": {},
   "outputs": [],
   "source": [
    "def sus_update(num_rolls, player_score, opponent_score, dice=six_sided):\n",
    "    \"\"\"Return the total score of a player who starts their turn with\n",
    "    PLAYER_SCORE and then rolls NUM_ROLLS DICE, *including* Sus Fuss.\n",
    "    \"\"\"\n",
    "    # BEGIN PROBLEM 4\n",
    "    \"*** YOUR CODE HERE ***\"\n",
    "    new_score = take_turn(num_rolls, player_score, opponent_score, dice)\n",
    "    update_score = sus_points(player_score + new_score)\n",
    "    return update_score"
   ]
  },
  {
   "cell_type": "code",
   "execution_count": 58,
   "metadata": {},
   "outputs": [
    {
     "data": {
      "text/plain": [
       "1"
      ]
     },
     "execution_count": 58,
     "metadata": {},
     "output_type": "execute_result"
    }
   ],
   "source": [
    "take_turn(4,23,55,make_test_dice(5,2,6,1))"
   ]
  },
  {
   "cell_type": "code",
   "execution_count": 60,
   "metadata": {},
   "outputs": [
    {
     "data": {
      "text/plain": [
       "2"
      ]
     },
     "execution_count": 60,
     "metadata": {},
     "output_type": "execute_result"
    }
   ],
   "source": [
    "num_factors(23)"
   ]
  },
  {
   "cell_type": "code",
   "execution_count": 61,
   "metadata": {},
   "outputs": [
    {
     "data": {
      "text/plain": [
       "2"
      ]
     },
     "execution_count": 61,
     "metadata": {},
     "output_type": "execute_result"
    }
   ],
   "source": [
    "sus_update(4,0,20,make_test_dice(5,1,4,1))"
   ]
  },
  {
   "cell_type": "code",
   "execution_count": 63,
   "metadata": {},
   "outputs": [],
   "source": [
    "def is_prime(n):\n",
    "    \"\"\"Return whether N is prime.\"\"\"\n",
    "    if n == 1:\n",
    "        return False\n",
    "    k = 2\n",
    "    while k < n:\n",
    "        if n % k == 0:\n",
    "            return False\n",
    "        k += 1\n",
    "    return True\n",
    "def sus_points(score):\n",
    "    \"\"\"Return the new score of a player taking into account the Sus Fuss rule.\"\"\"\n",
    "    # BEGIN PROBLEM 4\n",
    "    \"*** YOUR CODE HERE ***\"\n",
    "    i = 1\n",
    "    if num_factors(score) == 3 or 4:\n",
    "        while is_prime(score + i) is False:\n",
    "            i += 1\n",
    "        else:\n",
    "            return score + i\n",
    "    else:\n",
    "        return score"
   ]
  },
  {
   "cell_type": "code",
   "execution_count": 66,
   "metadata": {},
   "outputs": [
    {
     "data": {
      "text/plain": [
       "64"
      ]
     },
     "execution_count": 66,
     "metadata": {},
     "output_type": "execute_result"
    }
   ],
   "source": [
    "sus_points(64)"
   ]
  },
  {
   "cell_type": "code",
   "execution_count": 68,
   "metadata": {},
   "outputs": [],
   "source": [
    "def simple_update(num_rolls, player_score, opponent_score, dice=six_sided):\n",
    "    \"\"\"Return the total score of a player who starts their turn with\n",
    "    PLAYER_SCORE and then rolls NUM_ROLLS DICE, ignoring Sus Fuss.\n",
    "    \"\"\"\n",
    "    score = player_score + take_turn(num_rolls, player_score, opponent_score, dice)\n",
    "    return score"
   ]
  },
  {
   "cell_type": "code",
   "execution_count": 69,
   "metadata": {},
   "outputs": [
    {
     "data": {
      "text/plain": [
       "11"
      ]
     },
     "execution_count": 69,
     "metadata": {},
     "output_type": "execute_result"
    }
   ],
   "source": [
    "simple_update(2, 5, 7, make_test_dice(2, 4))"
   ]
  },
  {
   "cell_type": "code",
   "execution_count": 72,
   "metadata": {},
   "outputs": [
    {
     "data": {
      "text/plain": [
       "23"
      ]
     },
     "execution_count": 72,
     "metadata": {},
     "output_type": "execute_result"
    }
   ],
   "source": [
    "sus_update(0, 15, 37)"
   ]
  },
  {
   "cell_type": "code",
   "execution_count": 73,
   "metadata": {},
   "outputs": [
    {
     "data": {
      "text/plain": [
       "10"
      ]
     },
     "execution_count": 73,
     "metadata": {},
     "output_type": "execute_result"
    }
   ],
   "source": [
    "simple_update(2, 2, 3, make_test_dice(4))"
   ]
  },
  {
   "cell_type": "code",
   "execution_count": 74,
   "metadata": {},
   "outputs": [
    {
     "data": {
      "text/plain": [
       "11"
      ]
     },
     "execution_count": 74,
     "metadata": {},
     "output_type": "execute_result"
    }
   ],
   "source": [
    "sus_update(2, 2, 3, make_test_dice(4))"
   ]
  },
  {
   "cell_type": "code",
   "execution_count": 70,
   "metadata": {},
   "outputs": [
    {
     "data": {
      "text/plain": [
       "11"
      ]
     },
     "execution_count": 70,
     "metadata": {},
     "output_type": "execute_result"
    }
   ],
   "source": [
    "sus_update(2, 5, 7, make_test_dice(2, 4))"
   ]
  }
 ],
 "metadata": {
  "kernelspec": {
   "display_name": "py11",
   "language": "python",
   "name": "python3"
  },
  "language_info": {
   "codemirror_mode": {
    "name": "ipython",
    "version": 3
   },
   "file_extension": ".py",
   "mimetype": "text/x-python",
   "name": "python",
   "nbconvert_exporter": "python",
   "pygments_lexer": "ipython3",
   "version": "3.11.9"
  }
 },
 "nbformat": 4,
 "nbformat_minor": 2
}
