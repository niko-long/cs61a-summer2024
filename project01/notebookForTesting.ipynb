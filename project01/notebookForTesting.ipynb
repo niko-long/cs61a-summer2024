{
 "cells": [
  {
   "cell_type": "code",
   "execution_count": 1,
   "metadata": {},
   "outputs": [],
   "source": [
    "def always_roll(n):\n",
    "    assert n >= 0 and n <= 10\n",
    "\n",
    "    # BEGIN PROBLEM 6\n",
    "    \"*** YOUR CODE HERE ***\"\n",
    "    def strategy(i, j):\n",
    "        return n\n",
    "    return strategy\n",
    "    # END PROBLEM 6"
   ]
  },
  {
   "cell_type": "code",
   "execution_count": 11,
   "metadata": {},
   "outputs": [],
   "source": [
    "strategy = always_roll(3)"
   ]
  },
  {
   "cell_type": "code",
   "execution_count": 5,
   "metadata": {},
   "outputs": [
    {
     "data": {
      "text/plain": [
       "3"
      ]
     },
     "execution_count": 5,
     "metadata": {},
     "output_type": "execute_result"
    }
   ],
   "source": [
    "strategy(2,3)"
   ]
  },
  {
   "cell_type": "code",
   "execution_count": null,
   "metadata": {},
   "outputs": [],
   "source": [
    "def catch_up(score, opponent_score):\n",
    "    \"\"\"A player strategy that always rolls 5 dice unless the opponent\n",
    "    has a higher score, in which case 6 dice are rolled.\n",
    "\n",
    "    >>> catch_up(9, 4)\n",
    "    5\n",
    "    >>> strategy(17, 18)\n",
    "    6\n",
    "    \"\"\"\n",
    "    if score < opponent_score:\n",
    "        return 6  # Roll one more to catch up\n",
    "    else:\n",
    "        return 5\n",
    "    "
   ]
  },
  {
   "cell_type": "code",
   "execution_count": 13,
   "metadata": {},
   "outputs": [],
   "source": [
    "def catch_up(score, opponent_score):\n",
    "    \"\"\"A player strategy that always rolls 5 dice unless the opponent\n",
    "    has a higher score, in which case 6 dice are rolled.\n",
    "\n",
    "    >>> catch_up(9, 4)\n",
    "    5\n",
    "    >>> strategy(17, 18)\n",
    "    6\n",
    "    \"\"\"\n",
    "    if score < opponent_score:\n",
    "        return 6  # Roll one more to catch up\n",
    "    else:\n",
    "        return 5"
   ]
  },
  {
   "cell_type": "code",
   "execution_count": 36,
   "metadata": {},
   "outputs": [],
   "source": [
    "GOAL=200"
   ]
  },
  {
   "cell_type": "code",
   "execution_count": 38,
   "metadata": {},
   "outputs": [],
   "source": [
    "def is_always_roll(strategy, goal=GOAL):\n",
    "    \"\"\"Return whether STRATEGY always chooses the same number of dice to roll\n",
    "    given a game that goes to GOAL points.\n",
    "\n",
    "    >>> is_always_roll(always_roll_5)\n",
    "    True\n",
    "    >>> is_always_roll(always_roll(3))\n",
    "    True\n",
    "    >>> is_always_roll(catch_up)\n",
    "    False\n",
    "    \"\"\"\n",
    "    # BEGIN PROBLEM 7\n",
    "    \"*** YOUR CODE HERE ***\"\n",
    "    n = 0\n",
    "    for i in range (0, GOAL, 1):\n",
    "        for j in range (0, GOAL, 1):\n",
    "            if strategy(i,j)==strategy(0,0):\n",
    "                n += 1\n",
    "    print(\"n\", n)\n",
    "    print(GOAL * GOAL)\n",
    "    if n == GOAL * GOAL:\n",
    "        \n",
    "        return True\n",
    "    else:\n",
    "        return False"
   ]
  },
  {
   "cell_type": "code",
   "execution_count": 30,
   "metadata": {},
   "outputs": [],
   "source": [
    "def s(x, y):\n",
    "    if x == 150 and y == 125:\n",
    "        return 0\n",
    "    else:\n",
    "        return 1"
   ]
  },
  {
   "cell_type": "code",
   "execution_count": 39,
   "metadata": {},
   "outputs": [
    {
     "data": {
      "text/plain": [
       "0"
      ]
     },
     "execution_count": 39,
     "metadata": {},
     "output_type": "execute_result"
    }
   ],
   "source": [
    "s(150,125)"
   ]
  },
  {
   "cell_type": "code",
   "execution_count": 40,
   "metadata": {},
   "outputs": [
    {
     "name": "stdout",
     "output_type": "stream",
     "text": [
      "n 39999\n",
      "40000\n"
     ]
    },
    {
     "data": {
      "text/plain": [
       "False"
      ]
     },
     "execution_count": 40,
     "metadata": {},
     "output_type": "execute_result"
    }
   ],
   "source": [
    "is_always_roll(s, 200)"
   ]
  },
  {
   "cell_type": "code",
   "execution_count": 29,
   "metadata": {},
   "outputs": [
    {
     "name": "stdout",
     "output_type": "stream",
     "text": [
      "n 10000\n",
      "10000\n"
     ]
    },
    {
     "data": {
      "text/plain": [
       "True"
      ]
     },
     "execution_count": 29,
     "metadata": {},
     "output_type": "execute_result"
    }
   ],
   "source": [
    "is_always_roll(always_roll(3))"
   ]
  },
  {
   "cell_type": "code",
   "execution_count": 16,
   "metadata": {},
   "outputs": [],
   "source": [
    "def always_roll_5(score, opponent_score):\n",
    "    \"\"\"A strategy of always rolling 5 dice, regardless of the player's score or\n",
    "    the opponent's score.\n",
    "    \"\"\"\n",
    "    return 5"
   ]
  },
  {
   "cell_type": "code",
   "execution_count": 17,
   "metadata": {},
   "outputs": [
    {
     "data": {
      "text/plain": [
       "True"
      ]
     },
     "execution_count": 17,
     "metadata": {},
     "output_type": "execute_result"
    }
   ],
   "source": [
    "is_always_roll(always_roll_5)"
   ]
  }
 ],
 "metadata": {
  "kernelspec": {
   "display_name": "py11",
   "language": "python",
   "name": "python3"
  },
  "language_info": {
   "codemirror_mode": {
    "name": "ipython",
    "version": 3
   },
   "file_extension": ".py",
   "mimetype": "text/x-python",
   "name": "python",
   "nbconvert_exporter": "python",
   "pygments_lexer": "ipython3",
   "version": "3.11.9"
  }
 },
 "nbformat": 4,
 "nbformat_minor": 2
}
