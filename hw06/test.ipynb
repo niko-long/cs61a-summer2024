{
 "cells": [
  {
   "cell_type": "code",
   "execution_count": 2,
   "metadata": {},
   "outputs": [],
   "source": [
    "class Link:\n",
    "    \"\"\"A linked list.\n",
    "\n",
    "    >>> s = Link(1)\n",
    "    >>> s.first\n",
    "    1\n",
    "    >>> s.rest is Link.empty\n",
    "    True\n",
    "    >>> s = Link(2, Link(3, Link(4)))\n",
    "    >>> s.first = 5\n",
    "    >>> s.rest.first = 6\n",
    "    >>> s.rest.rest = Link.empty\n",
    "    >>> s                                    # Displays the contents of repr(s)\n",
    "    Link(5, Link(6))\n",
    "    >>> s.rest = Link(7, Link(Link(8, Link(9))))\n",
    "    >>> s\n",
    "    Link(5, Link(7, Link(Link(8, Link(9)))))\n",
    "    >>> print(s)                             # Prints str(s)\n",
    "    <5 7 <8 9>>\n",
    "    \"\"\"\n",
    "    empty = ()\n",
    "\n",
    "    def __init__(self, first, rest=empty):\n",
    "        assert rest is Link.empty or isinstance(rest, Link)\n",
    "        self.first = first\n",
    "        self.rest = rest\n",
    "\n",
    "    def __repr__(self):\n",
    "        if self.rest is not Link.empty:\n",
    "            rest_repr = ', ' + repr(self.rest)\n",
    "        else:\n",
    "            rest_repr = ''\n",
    "        return 'Link(' + repr(self.first) + rest_repr + ')'\n",
    "\n",
    "    def __str__(self):\n",
    "        string = '<'\n",
    "        while self.rest is not Link.empty:\n",
    "            string += str(self.first) + ' '\n",
    "            self = self.rest\n",
    "        return string + str(self.first) + '>'\n",
    "\n"
   ]
  },
  {
   "cell_type": "code",
   "execution_count": 49,
   "metadata": {},
   "outputs": [],
   "source": [
    "def store_digits(n):\n",
    "    \"\"\"Stores the digits of a positive number n in a linked list.\n",
    "\n",
    "    >>> s = store_digits(1)\n",
    "    >>> s\n",
    "    Link(1)\n",
    "    >>> store_digits(2345)\n",
    "    Link(2, Link(3, Link(4, Link(5))))\n",
    "    >>> store_digits(876)\n",
    "    Link(8, Link(7, Link(6)))\n",
    "    >>> store_digits(2450)\n",
    "    Link(2, Link(4, Link(5, Link(0))))\n",
    "    >>> # a check for restricted functions\n",
    "    >>> import inspect, re\n",
    "    >>> cleaned = re.sub(r\"#.*\\\\n\", '', re.sub(r'\"{3}[\\s\\S]*?\"{3}', '', inspect.getsource(store_digits)))\n",
    "    >>> print(\"Do not use str or reversed!\") if any([r in cleaned for r in [\"str\", \"reversed\"]]) else None\n",
    "    \"\"\"\n",
    "    \"*** YOUR CODE HERE ***\"\n",
    "    final = Link.empty\n",
    "    while n > 0:\n",
    "        final = Link(n % 10, final)\n",
    "        n = n // 10\n",
    "    return final"
   ]
  },
  {
   "cell_type": "code",
   "execution_count": 54,
   "metadata": {},
   "outputs": [
    {
     "data": {
      "text/plain": [
       "Link(1, Link(2, Link(3, Link(4, Link(5)))))"
      ]
     },
     "execution_count": 54,
     "metadata": {},
     "output_type": "execute_result"
    }
   ],
   "source": [
    "store_digits(12345)"
   ]
  },
  {
   "cell_type": "code",
   "execution_count": 55,
   "metadata": {},
   "outputs": [],
   "source": [
    "a = [1, 3, 2]"
   ]
  },
  {
   "cell_type": "code",
   "execution_count": 56,
   "metadata": {},
   "outputs": [],
   "source": [
    "a = [1, 3, 2]"
   ]
  },
  {
   "cell_type": "code",
   "execution_count": 58,
   "metadata": {},
   "outputs": [],
   "source": [
    "a.reverse()"
   ]
  },
  {
   "cell_type": "code",
   "execution_count": 59,
   "metadata": {},
   "outputs": [
    {
     "data": {
      "text/plain": [
       "[2, 3, 1]"
      ]
     },
     "execution_count": 59,
     "metadata": {},
     "output_type": "execute_result"
    }
   ],
   "source": [
    "a"
   ]
  },
  {
   "cell_type": "code",
   "execution_count": null,
   "metadata": {},
   "outputs": [],
   "source": []
  }
 ],
 "metadata": {
  "kernelspec": {
   "display_name": "base",
   "language": "python",
   "name": "python3"
  },
  "language_info": {
   "codemirror_mode": {
    "name": "ipython",
    "version": 3
   },
   "file_extension": ".py",
   "mimetype": "text/x-python",
   "name": "python",
   "nbconvert_exporter": "python",
   "pygments_lexer": "ipython3",
   "version": "3.11.7"
  }
 },
 "nbformat": 4,
 "nbformat_minor": 2
}
